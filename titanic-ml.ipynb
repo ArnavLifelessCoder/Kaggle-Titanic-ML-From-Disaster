{
 "cells": [
  {
   "cell_type": "code",
   "execution_count": 1,
   "id": "57fb2df7",
   "metadata": {
    "execution": {
     "iopub.execute_input": "2025-03-10T11:29:18.528810Z",
     "iopub.status.busy": "2025-03-10T11:29:18.528313Z",
     "iopub.status.idle": "2025-03-10T11:29:18.535612Z",
     "shell.execute_reply": "2025-03-10T11:29:18.534267Z"
    },
    "papermill": {
     "duration": 0.031033,
     "end_time": "2025-03-10T11:29:18.538371",
     "exception": false,
     "start_time": "2025-03-10T11:29:18.507338",
     "status": "completed"
    },
    "tags": []
   },
   "outputs": [],
   "source": [
    "#Titanic ML code"
   ]
  },
  {
   "cell_type": "code",
   "execution_count": 2,
   "id": "8ea1629b",
   "metadata": {
    "execution": {
     "iopub.execute_input": "2025-03-10T11:29:18.573552Z",
     "iopub.status.busy": "2025-03-10T11:29:18.573129Z",
     "iopub.status.idle": "2025-03-10T11:29:20.592076Z",
     "shell.execute_reply": "2025-03-10T11:29:20.590799Z"
    },
    "papermill": {
     "duration": 2.039777,
     "end_time": "2025-03-10T11:29:20.594920",
     "exception": false,
     "start_time": "2025-03-10T11:29:18.555143",
     "status": "completed"
    },
    "tags": []
   },
   "outputs": [],
   "source": [
    "import pandas as pd\n",
    "import numpy as np\n",
    "\n",
    "import matplotlib.pyplot as plt\n",
    "import seaborn as sns\n",
    "\n",
    "from sklearn.experimental import enable_iterative_imputer\n",
    "from sklearn.impute import (SimpleImputer, IterativeImputer)\n",
    "from sklearn.preprocessing import (OneHotEncoder, StandardScaler)\n",
    "from sklearn.model_selection import (GridSearchCV, cross_val_score)\n",
    "from sklearn.feature_selection import SequentialFeatureSelector\n",
    "from catboost import CatBoostClassifier"
   ]
  },
  {
   "cell_type": "markdown",
   "id": "92f10476",
   "metadata": {
    "papermill": {
     "duration": 0.016807,
     "end_time": "2025-03-10T11:29:20.629041",
     "exception": false,
     "start_time": "2025-03-10T11:29:20.612234",
     "status": "completed"
    },
    "tags": []
   },
   "source": [
    "# Load data and first look"
   ]
  },
  {
   "cell_type": "code",
   "execution_count": 3,
   "id": "1fbbfa65",
   "metadata": {
    "execution": {
     "iopub.execute_input": "2025-03-10T11:29:20.665458Z",
     "iopub.status.busy": "2025-03-10T11:29:20.665075Z",
     "iopub.status.idle": "2025-03-10T11:29:20.713310Z",
     "shell.execute_reply": "2025-03-10T11:29:20.712102Z"
    },
    "papermill": {
     "duration": 0.068977,
     "end_time": "2025-03-10T11:29:20.716082",
     "exception": false,
     "start_time": "2025-03-10T11:29:20.647105",
     "status": "completed"
    },
    "tags": []
   },
   "outputs": [
    {
     "data": {
      "text/html": [
       "<div>\n",
       "<style scoped>\n",
       "    .dataframe tbody tr th:only-of-type {\n",
       "        vertical-align: middle;\n",
       "    }\n",
       "\n",
       "    .dataframe tbody tr th {\n",
       "        vertical-align: top;\n",
       "    }\n",
       "\n",
       "    .dataframe thead th {\n",
       "        text-align: right;\n",
       "    }\n",
       "</style>\n",
       "<table border=\"1\" class=\"dataframe\">\n",
       "  <thead>\n",
       "    <tr style=\"text-align: right;\">\n",
       "      <th></th>\n",
       "      <th>PassengerId</th>\n",
       "      <th>Survived</th>\n",
       "      <th>Pclass</th>\n",
       "      <th>Name</th>\n",
       "      <th>Sex</th>\n",
       "      <th>Age</th>\n",
       "      <th>SibSp</th>\n",
       "      <th>Parch</th>\n",
       "      <th>Ticket</th>\n",
       "      <th>Fare</th>\n",
       "      <th>Cabin</th>\n",
       "      <th>Embarked</th>\n",
       "    </tr>\n",
       "  </thead>\n",
       "  <tbody>\n",
       "    <tr>\n",
       "      <th>0</th>\n",
       "      <td>1</td>\n",
       "      <td>0</td>\n",
       "      <td>3</td>\n",
       "      <td>Braund, Mr. Owen Harris</td>\n",
       "      <td>male</td>\n",
       "      <td>22.0</td>\n",
       "      <td>1</td>\n",
       "      <td>0</td>\n",
       "      <td>A/5 21171</td>\n",
       "      <td>7.2500</td>\n",
       "      <td>NaN</td>\n",
       "      <td>S</td>\n",
       "    </tr>\n",
       "    <tr>\n",
       "      <th>1</th>\n",
       "      <td>2</td>\n",
       "      <td>1</td>\n",
       "      <td>1</td>\n",
       "      <td>Cumings, Mrs. John Bradley (Florence Briggs Th...</td>\n",
       "      <td>female</td>\n",
       "      <td>38.0</td>\n",
       "      <td>1</td>\n",
       "      <td>0</td>\n",
       "      <td>PC 17599</td>\n",
       "      <td>71.2833</td>\n",
       "      <td>C85</td>\n",
       "      <td>C</td>\n",
       "    </tr>\n",
       "    <tr>\n",
       "      <th>2</th>\n",
       "      <td>3</td>\n",
       "      <td>1</td>\n",
       "      <td>3</td>\n",
       "      <td>Heikkinen, Miss. Laina</td>\n",
       "      <td>female</td>\n",
       "      <td>26.0</td>\n",
       "      <td>0</td>\n",
       "      <td>0</td>\n",
       "      <td>STON/O2. 3101282</td>\n",
       "      <td>7.9250</td>\n",
       "      <td>NaN</td>\n",
       "      <td>S</td>\n",
       "    </tr>\n",
       "    <tr>\n",
       "      <th>3</th>\n",
       "      <td>4</td>\n",
       "      <td>1</td>\n",
       "      <td>1</td>\n",
       "      <td>Futrelle, Mrs. Jacques Heath (Lily May Peel)</td>\n",
       "      <td>female</td>\n",
       "      <td>35.0</td>\n",
       "      <td>1</td>\n",
       "      <td>0</td>\n",
       "      <td>113803</td>\n",
       "      <td>53.1000</td>\n",
       "      <td>C123</td>\n",
       "      <td>S</td>\n",
       "    </tr>\n",
       "    <tr>\n",
       "      <th>4</th>\n",
       "      <td>5</td>\n",
       "      <td>0</td>\n",
       "      <td>3</td>\n",
       "      <td>Allen, Mr. William Henry</td>\n",
       "      <td>male</td>\n",
       "      <td>35.0</td>\n",
       "      <td>0</td>\n",
       "      <td>0</td>\n",
       "      <td>373450</td>\n",
       "      <td>8.0500</td>\n",
       "      <td>NaN</td>\n",
       "      <td>S</td>\n",
       "    </tr>\n",
       "  </tbody>\n",
       "</table>\n",
       "</div>"
      ],
      "text/plain": [
       "   PassengerId  Survived  Pclass  \\\n",
       "0            1         0       3   \n",
       "1            2         1       1   \n",
       "2            3         1       3   \n",
       "3            4         1       1   \n",
       "4            5         0       3   \n",
       "\n",
       "                                                Name     Sex   Age  SibSp  \\\n",
       "0                            Braund, Mr. Owen Harris    male  22.0      1   \n",
       "1  Cumings, Mrs. John Bradley (Florence Briggs Th...  female  38.0      1   \n",
       "2                             Heikkinen, Miss. Laina  female  26.0      0   \n",
       "3       Futrelle, Mrs. Jacques Heath (Lily May Peel)  female  35.0      1   \n",
       "4                           Allen, Mr. William Henry    male  35.0      0   \n",
       "\n",
       "   Parch            Ticket     Fare Cabin Embarked  \n",
       "0      0         A/5 21171   7.2500   NaN        S  \n",
       "1      0          PC 17599  71.2833   C85        C  \n",
       "2      0  STON/O2. 3101282   7.9250   NaN        S  \n",
       "3      0            113803  53.1000  C123        S  \n",
       "4      0            373450   8.0500   NaN        S  "
      ]
     },
     "execution_count": 3,
     "metadata": {},
     "output_type": "execute_result"
    }
   ],
   "source": [
    "# Load data\n",
    "full_df = pd.read_csv('/kaggle/input/titanic/train.csv')\n",
    "test_df = pd.read_csv('/kaggle/input/titanic/test.csv')\n",
    "full_df.head()"
   ]
  },
  {
   "cell_type": "markdown",
   "id": "60708ba0",
   "metadata": {
    "papermill": {
     "duration": 0.016223,
     "end_time": "2025-03-10T11:29:20.749002",
     "exception": false,
     "start_time": "2025-03-10T11:29:20.732779",
     "status": "completed"
    },
    "tags": []
   },
   "source": [
    "# Prepare dataframe for further manipulations"
   ]
  },
  {
   "cell_type": "code",
   "execution_count": 4,
   "id": "12c729dd",
   "metadata": {
    "execution": {
     "iopub.execute_input": "2025-03-10T11:29:20.785401Z",
     "iopub.status.busy": "2025-03-10T11:29:20.785004Z",
     "iopub.status.idle": "2025-03-10T11:29:20.823033Z",
     "shell.execute_reply": "2025-03-10T11:29:20.821764Z"
    },
    "papermill": {
     "duration": 0.059193,
     "end_time": "2025-03-10T11:29:20.825753",
     "exception": false,
     "start_time": "2025-03-10T11:29:20.766560",
     "status": "completed"
    },
    "tags": []
   },
   "outputs": [
    {
     "name": "stdout",
     "output_type": "stream",
     "text": [
      "<class 'pandas.core.frame.DataFrame'>\n",
      "RangeIndex: 1309 entries, 0 to 1308\n",
      "Data columns (total 10 columns):\n",
      " #   Column    Non-Null Count  Dtype  \n",
      "---  ------    --------------  -----  \n",
      " 0   Pclass    1309 non-null   int64  \n",
      " 1   Name      1309 non-null   object \n",
      " 2   Sex       1309 non-null   object \n",
      " 3   Age       1046 non-null   float64\n",
      " 4   SibSp     1309 non-null   int64  \n",
      " 5   Parch     1309 non-null   int64  \n",
      " 6   Ticket    1309 non-null   object \n",
      " 7   Fare      1308 non-null   float64\n",
      " 8   Cabin     295 non-null    object \n",
      " 9   Embarked  1307 non-null   object \n",
      "dtypes: float64(2), int64(3), object(5)\n",
      "memory usage: 102.4+ KB\n"
     ]
    }
   ],
   "source": [
    "# Separate test_df PassengerId (will need it for submission)\n",
    "test_pass_id = test_df.pop('PassengerId')\n",
    "\n",
    "# Keep max index that will be used to back split training and test data\n",
    "X_max_index = full_df.shape[0]\n",
    "\n",
    "# Separate features and target\n",
    "y = full_df.Survived\n",
    "\n",
    "df = full_df.drop(['Survived', 'PassengerId'], axis=1)\n",
    "df = pd.concat([df, test_df], axis=0).reset_index(drop=True)\n",
    "\n",
    "df.info()"
   ]
  },
  {
   "cell_type": "markdown",
   "id": "df9bb5d4",
   "metadata": {
    "papermill": {
     "duration": 0.016935,
     "end_time": "2025-03-10T11:29:20.860185",
     "exception": false,
     "start_time": "2025-03-10T11:29:20.843250",
     "status": "completed"
    },
    "tags": []
   },
   "source": [
    "- Some features need imputation\n",
    "- Cabin column has a lot of missing values, we will use the availble \n",
    "  values to create a new feature and will drop Cabin\n",
    "- We will create the feature Deck level, using the correlation between\n",
    "  Pclass and info deducted from Cabin column. We suppose that the deck \n",
    "  level could take a role in survivability of the people as the lifeboats \n",
    "  were on the top level.\n",
    "- From Name we will keep just the lastname and use it during creation \n",
    "  of Deck_level.\n",
    "- We will create the feature Title, extracting the title from Name column, \n",
    "  supposing that some category of people had priority to embark the lifeboats."
   ]
  },
  {
   "cell_type": "markdown",
   "id": "2f127dc7",
   "metadata": {
    "papermill": {
     "duration": 0.016725,
     "end_time": "2025-03-10T11:29:20.893807",
     "exception": false,
     "start_time": "2025-03-10T11:29:20.877082",
     "status": "completed"
    },
    "tags": []
   },
   "source": [
    "# Unprocessed data correlation\n",
    "\n"
   ]
  },
  {
   "cell_type": "code",
   "execution_count": 5,
   "id": "38df314d",
   "metadata": {
    "execution": {
     "iopub.execute_input": "2025-03-10T11:29:20.929401Z",
     "iopub.status.busy": "2025-03-10T11:29:20.928951Z",
     "iopub.status.idle": "2025-03-10T11:29:20.941077Z",
     "shell.execute_reply": "2025-03-10T11:29:20.939795Z"
    },
    "papermill": {
     "duration": 0.032774,
     "end_time": "2025-03-10T11:29:20.943652",
     "exception": false,
     "start_time": "2025-03-10T11:29:20.910878",
     "status": "completed"
    },
    "tags": []
   },
   "outputs": [
    {
     "data": {
      "text/plain": [
       "Survived       1.000000\n",
       "Fare           0.257307\n",
       "Parch          0.081629\n",
       "PassengerId   -0.005007\n",
       "SibSp         -0.035322\n",
       "Age           -0.077221\n",
       "Pclass        -0.338481\n",
       "Name: Survived, dtype: float64"
      ]
     },
     "execution_count": 5,
     "metadata": {},
     "output_type": "execute_result"
    }
   ],
   "source": [
    "full_df.corr()['Survived'].sort_values(ascending=False)"
   ]
  },
  {
   "cell_type": "markdown",
   "id": "966a91d4",
   "metadata": {
    "papermill": {
     "duration": 0.017402,
     "end_time": "2025-03-10T11:29:20.978174",
     "exception": false,
     "start_time": "2025-03-10T11:29:20.960772",
     "status": "completed"
    },
    "tags": []
   },
   "source": [
    "- Fare and Pclass have the highest correlation to Survived, it seams higher class (also higher Fare) had priority to embarc the lifeboats.\n",
    "- Pclass has negative correlation because Pclass is numbered 1, 2, 3 (high, medium, low), but results to an invers survivability (class 3 = lower chance to survive, class 1 = higher chance)."
   ]
  },
  {
   "cell_type": "markdown",
   "id": "30530261",
   "metadata": {
    "papermill": {
     "duration": 0.016735,
     "end_time": "2025-03-10T11:29:21.012349",
     "exception": false,
     "start_time": "2025-03-10T11:29:20.995614",
     "status": "completed"
    },
    "tags": []
   },
   "source": [
    "# Surviving distribution by Age and Sex"
   ]
  },
  {
   "cell_type": "code",
   "execution_count": 6,
   "id": "43a5fb39",
   "metadata": {
    "execution": {
     "iopub.execute_input": "2025-03-10T11:29:21.048810Z",
     "iopub.status.busy": "2025-03-10T11:29:21.047763Z",
     "iopub.status.idle": "2025-03-10T11:29:21.423381Z",
     "shell.execute_reply": "2025-03-10T11:29:21.421946Z"
    },
    "papermill": {
     "duration": 0.396922,
     "end_time": "2025-03-10T11:29:21.426282",
     "exception": false,
     "start_time": "2025-03-10T11:29:21.029360",
     "status": "completed"
    },
    "tags": []
   },
   "outputs": [
    {
     "data": {
      "image/png": "[encoded data removed]",
      "text/plain": [
       "<Figure size 720x360 with 2 Axes>"
      ]
     },
     "metadata": {
      "needs_background": "light"
     },
     "output_type": "display_data"
    }
   ],
   "source": [
    "fig, axs = plt.subplots(1, 2, figsize=(10, 5), sharey=True)\n",
    "sns.histplot(x='Age', hue='Survived', data=full_df, bins=5, ax=axs[0])\n",
    "sns.countplot(x='Sex', hue='Survived', data=full_df, ax=axs[1])\n",
    "plt.show()"
   ]
  },
  {
   "cell_type": "markdown",
   "id": "7a0f70f9",
   "metadata": {
    "papermill": {
     "duration": 0.017407,
     "end_time": "2025-03-10T11:29:21.461360",
     "exception": false,
     "start_time": "2025-03-10T11:29:21.443953",
     "status": "completed"
    },
    "tags": []
   },
   "source": [
    "Women and children definetely had more chances to survive"
   ]
  },
  {
   "cell_type": "markdown",
   "id": "17d2a196",
   "metadata": {
    "papermill": {
     "duration": 0.018635,
     "end_time": "2025-03-10T11:29:21.499197",
     "exception": false,
     "start_time": "2025-03-10T11:29:21.480562",
     "status": "completed"
    },
    "tags": []
   },
   "source": [
    "# Features' instances"
   ]
  },
  {
   "cell_type": "code",
   "execution_count": 7,
   "id": "a9e4ff42",
   "metadata": {
    "execution": {
     "iopub.execute_input": "2025-03-10T11:29:21.540636Z",
     "iopub.status.busy": "2025-03-10T11:29:21.540216Z",
     "iopub.status.idle": "2025-03-10T11:29:22.389935Z",
     "shell.execute_reply": "2025-03-10T11:29:22.388424Z"
    },
    "papermill": {
     "duration": 0.873183,
     "end_time": "2025-03-10T11:29:22.392933",
     "exception": false,
     "start_time": "2025-03-10T11:29:21.519750",
     "status": "completed"
    },
    "tags": []
   },
   "outputs": [
    {
     "data": {
      "image/png": "[encoded data removed]",
      "text/plain": [
       "<Figure size 864x576 with 6 Axes>"
      ]
     },
     "metadata": {
      "needs_background": "light"
     },
     "output_type": "display_data"
    }
   ],
   "source": [
    "df.hist(bins=30, figsize=(12, 8))\n",
    "plt.show()"
   ]
  },
  {
   "cell_type": "markdown",
   "id": "260ee500",
   "metadata": {
    "papermill": {
     "duration": 0.019648,
     "end_time": "2025-03-10T11:29:22.431073",
     "exception": false,
     "start_time": "2025-03-10T11:29:22.411425",
     "status": "completed"
    },
    "tags": []
   },
   "source": [
    "- Attributes have different scales\n",
    "- Some features are skewed right, we should check for outliers and normalize data\n",
    "- Fare has values of 0 that looks weird"
   ]
  },
  {
   "cell_type": "code",
   "execution_count": 8,
   "id": "5b9a6126",
   "metadata": {
    "execution": {
     "iopub.execute_input": "2025-03-10T11:29:22.469092Z",
     "iopub.status.busy": "2025-03-10T11:29:22.468658Z",
     "iopub.status.idle": "2025-03-10T11:29:22.475461Z",
     "shell.execute_reply": "2025-03-10T11:29:22.474119Z"
    },
    "papermill": {
     "duration": 0.029194,
     "end_time": "2025-03-10T11:29:22.477875",
     "exception": false,
     "start_time": "2025-03-10T11:29:22.448681",
     "status": "completed"
    },
    "tags": []
   },
   "outputs": [],
   "source": [
    "# Zero values in Fare we will consider as an error or outlier and will delete for further imputation\n",
    "df.loc[df.Fare.eq(0), 'Fare'] = np.nan"
   ]
  },
  {
   "cell_type": "markdown",
   "id": "bd7b5017",
   "metadata": {
    "papermill": {
     "duration": 0.019221,
     "end_time": "2025-03-10T11:29:22.515497",
     "exception": false,
     "start_time": "2025-03-10T11:29:22.496276",
     "status": "completed"
    },
    "tags": []
   },
   "source": [
    "# Create Lastname"
   ]
  },
  {
   "cell_type": "code",
   "execution_count": 9,
   "id": "dfc956ae",
   "metadata": {
    "execution": {
     "iopub.execute_input": "2025-03-10T11:29:22.553305Z",
     "iopub.status.busy": "2025-03-10T11:29:22.552837Z",
     "iopub.status.idle": "2025-03-10T11:29:22.563346Z",
     "shell.execute_reply": "2025-03-10T11:29:22.562177Z"
    },
    "papermill": {
     "duration": 0.032739,
     "end_time": "2025-03-10T11:29:22.566093",
     "exception": false,
     "start_time": "2025-03-10T11:29:22.533354",
     "status": "completed"
    },
    "tags": []
   },
   "outputs": [],
   "source": [
    "df['Lastname'] = df.Name.str.split(', ').str[0]"
   ]
  },
  {
   "cell_type": "markdown",
   "id": "f04e2e3a",
   "metadata": {
    "execution": {
     "iopub.execute_input": "2023-01-11T15:59:25.339772Z",
     "iopub.status.busy": "2023-01-11T15:59:25.336617Z",
     "iopub.status.idle": "2023-01-11T15:59:25.372076Z",
     "shell.execute_reply": "2023-01-11T15:59:25.371041Z",
     "shell.execute_reply.started": "2023-01-11T15:59:25.339713Z"
    },
    "papermill": {
     "duration": 0.01914,
     "end_time": "2025-03-10T11:29:22.605140",
     "exception": false,
     "start_time": "2025-03-10T11:29:22.586000",
     "status": "completed"
    },
    "tags": []
   },
   "source": [
    "# Create Title"
   ]
  },
  {
   "cell_type": "code",
   "execution_count": 10,
   "id": "3fda7c89",
   "metadata": {
    "execution": {
     "iopub.execute_input": "2025-03-10T11:29:22.645389Z",
     "iopub.status.busy": "2025-03-10T11:29:22.643938Z",
     "iopub.status.idle": "2025-03-10T11:29:22.658232Z",
     "shell.execute_reply": "2025-03-10T11:29:22.656965Z"
    },
    "papermill": {
     "duration": 0.037256,
     "end_time": "2025-03-10T11:29:22.660949",
     "exception": false,
     "start_time": "2025-03-10T11:29:22.623693",
     "status": "completed"
    },
    "tags": []
   },
   "outputs": [],
   "source": [
    "# Extracting the Title from Name column\n",
    "df['Title'] = df.Name.str.split(', ').str[1]\n",
    "df['Title'] = df.Title.str.split('.').str[0]"
   ]
  },
  {
   "cell_type": "code",
   "execution_count": 11,
   "id": "00704a6e",
   "metadata": {
    "execution": {
     "iopub.execute_input": "2025-03-10T11:29:22.698373Z",
     "iopub.status.busy": "2025-03-10T11:29:22.697882Z",
     "iopub.status.idle": "2025-03-10T11:29:22.712567Z",
     "shell.execute_reply": "2025-03-10T11:29:22.710767Z"
    },
    "papermill": {
     "duration": 0.037064,
     "end_time": "2025-03-10T11:29:22.715971",
     "exception": false,
     "start_time": "2025-03-10T11:29:22.678907",
     "status": "completed"
    },
    "tags": []
   },
   "outputs": [
    {
     "data": {
      "text/plain": [
       "Mr              757\n",
       "Miss            260\n",
       "Mrs             197\n",
       "Master           61\n",
       "Rev               8\n",
       "Dr                8\n",
       "Col               4\n",
       "Mlle              2\n",
       "Major             2\n",
       "Ms                2\n",
       "Lady              1\n",
       "Sir               1\n",
       "Mme               1\n",
       "Don               1\n",
       "Capt              1\n",
       "the Countess      1\n",
       "Jonkheer          1\n",
       "Dona              1\n",
       "Name: Title, dtype: int64"
      ]
     },
     "execution_count": 11,
     "metadata": {},
     "output_type": "execute_result"
    }
   ],
   "source": [
    "# Analyze titles\n",
    "df.Title.value_counts()"
   ]
  },
  {
   "cell_type": "markdown",
   "id": "28af23aa",
   "metadata": {
    "papermill": {
     "duration": 0.025354,
     "end_time": "2025-03-10T11:29:22.767650",
     "exception": false,
     "start_time": "2025-03-10T11:29:22.742296",
     "status": "completed"
    },
    "tags": []
   },
   "source": [
    "We will simplify the titles to the same meaning ones"
   ]
  },
  {
   "cell_type": "code",
   "execution_count": 12,
   "id": "14fae751",
   "metadata": {
    "execution": {
     "iopub.execute_input": "2025-03-10T11:29:22.813665Z",
     "iopub.status.busy": "2025-03-10T11:29:22.812760Z",
     "iopub.status.idle": "2025-03-10T11:29:22.828258Z",
     "shell.execute_reply": "2025-03-10T11:29:22.826962Z"
    },
    "papermill": {
     "duration": 0.038411,
     "end_time": "2025-03-10T11:29:22.830876",
     "exception": false,
     "start_time": "2025-03-10T11:29:22.792465",
     "status": "completed"
    },
    "tags": []
   },
   "outputs": [
    {
     "data": {
      "text/plain": [
       "count    581.000000\n",
       "mean      32.252151\n",
       "std       12.422089\n",
       "min       11.000000\n",
       "25%       23.000000\n",
       "50%       29.000000\n",
       "75%       39.000000\n",
       "max       80.000000\n",
       "Name: Age, dtype: float64"
      ]
     },
     "execution_count": 12,
     "metadata": {},
     "output_type": "execute_result"
    }
   ],
   "source": [
    "# Analyze the title Mr by Age\n",
    "df[df.Title.eq('Mr')].Age.describe()"
   ]
  },
  {
   "cell_type": "code",
   "execution_count": 13,
   "id": "9cda25b9",
   "metadata": {
    "execution": {
     "iopub.execute_input": "2025-03-10T11:29:22.869061Z",
     "iopub.status.busy": "2025-03-10T11:29:22.868565Z",
     "iopub.status.idle": "2025-03-10T11:29:22.881482Z",
     "shell.execute_reply": "2025-03-10T11:29:22.880184Z"
    },
    "papermill": {
     "duration": 0.03513,
     "end_time": "2025-03-10T11:29:22.883738",
     "exception": false,
     "start_time": "2025-03-10T11:29:22.848608",
     "status": "completed"
    },
    "tags": []
   },
   "outputs": [
    {
     "data": {
      "text/plain": [
       "count    53.000000\n",
       "mean      5.482642\n",
       "std       4.161554\n",
       "min       0.330000\n",
       "25%       2.000000\n",
       "50%       4.000000\n",
       "75%       9.000000\n",
       "max      14.500000\n",
       "Name: Age, dtype: float64"
      ]
     },
     "execution_count": 13,
     "metadata": {},
     "output_type": "execute_result"
    }
   ],
   "source": [
    "# Analyze the title Master by Age\n",
    "df[df.Title.eq('Master')].Age.describe()"
   ]
  },
  {
   "cell_type": "code",
   "execution_count": 14,
   "id": "3dbfae52",
   "metadata": {
    "execution": {
     "iopub.execute_input": "2025-03-10T11:29:22.921529Z",
     "iopub.status.busy": "2025-03-10T11:29:22.920734Z",
     "iopub.status.idle": "2025-03-10T11:29:22.933888Z",
     "shell.execute_reply": "2025-03-10T11:29:22.932805Z"
    },
    "papermill": {
     "duration": 0.034986,
     "end_time": "2025-03-10T11:29:22.936386",
     "exception": false,
     "start_time": "2025-03-10T11:29:22.901400",
     "status": "completed"
    },
    "tags": []
   },
   "outputs": [
    {
     "data": {
      "text/plain": [
       "count    170.000000\n",
       "mean      36.994118\n",
       "std       12.901767\n",
       "min       14.000000\n",
       "25%       27.000000\n",
       "50%       35.500000\n",
       "75%       46.500000\n",
       "max       76.000000\n",
       "Name: Age, dtype: float64"
      ]
     },
     "execution_count": 14,
     "metadata": {},
     "output_type": "execute_result"
    }
   ],
   "source": [
    "# Analyze the title Master by Age\n",
    "df[df.Title.eq('Mrs')].Age.describe()"
   ]
  },
  {
   "cell_type": "markdown",
   "id": "10a1d861",
   "metadata": {
    "papermill": {
     "duration": 0.017708,
     "end_time": "2025-03-10T11:29:22.972085",
     "exception": false,
     "start_time": "2025-03-10T11:29:22.954377",
     "status": "completed"
    },
    "tags": []
   },
   "source": [
    "In the dataset title Mr is used from 11 years old and Master to maximum 15 years old.\n",
    "\n",
    "Master is an antiquated title for an underage male.\n",
    "\n",
    "We will join them together and then split again at age 18 to have a clean delimeter between minor and adult male titles.\n",
    "\n",
    "Miss is used for young ladies and also for unmarried ones\n",
    "\n",
    "Title Mrs younger than 18 years we will change to Miss as more apropriate"
   ]
  },
  {
   "cell_type": "code",
   "execution_count": 15,
   "id": "53a55361",
   "metadata": {
    "execution": {
     "iopub.execute_input": "2025-03-10T11:29:23.009361Z",
     "iopub.status.busy": "2025-03-10T11:29:23.008963Z",
     "iopub.status.idle": "2025-03-10T11:29:23.026511Z",
     "shell.execute_reply": "2025-03-10T11:29:23.024952Z"
    },
    "papermill": {
     "duration": 0.039208,
     "end_time": "2025-03-10T11:29:23.028923",
     "exception": false,
     "start_time": "2025-03-10T11:29:22.989715",
     "status": "completed"
    },
    "tags": []
   },
   "outputs": [],
   "source": [
    "# Grouping the same type titles \n",
    "mrs = ['Mrs', 'Mme']\n",
    "df.loc[df.Title.isin(mrs), 'Title'] = 'Mrs'\n",
    "\n",
    "miss = ['Ms', 'Miss', 'Mlle']\n",
    "df.loc[df.Title.isin(miss), 'Title'] = 'Miss'\n",
    "\n",
    "# Change minor Mr title to Master\n",
    "df.loc[(df.Title.eq('Mr') & df.Age.le(18)), 'Title'] = 'Master'\n",
    "\n",
    "# Change minor Mrs title to Miss\n",
    "df.loc[(df.Title.eq('Mrs') & df.Age.le(18)), 'Title'] = 'Miss'\n",
    "\n",
    "# Separate other titles by sex\n",
    "df.loc[(~df.Title.isin(['Mrs', 'Miss', 'Mr', 'Master']) \n",
    "        & df.Sex.eq('male')), 'Title'] = 'Mr'\n",
    "\n",
    "df.loc[(~df.Title.isin(['Mrs', 'Miss', 'Mr', 'Master']) \n",
    "        & df.Sex.eq('female')), 'Title'] = 'Mrs'"
   ]
  },
  {
   "cell_type": "markdown",
   "id": "eedfd17d",
   "metadata": {
    "papermill": {
     "duration": 0.017471,
     "end_time": "2025-03-10T11:29:23.064166",
     "exception": false,
     "start_time": "2025-03-10T11:29:23.046695",
     "status": "completed"
    },
    "tags": []
   },
   "source": [
    "# Create Status\n",
    "This feature will separate mothers and children from other adults"
   ]
  },
  {
   "cell_type": "code",
   "execution_count": 16,
   "id": "6f219bc6",
   "metadata": {
    "execution": {
     "iopub.execute_input": "2025-03-10T11:29:23.101657Z",
     "iopub.status.busy": "2025-03-10T11:29:23.101226Z",
     "iopub.status.idle": "2025-03-10T11:29:23.118001Z",
     "shell.execute_reply": "2025-03-10T11:29:23.116792Z"
    },
    "papermill": {
     "duration": 0.039057,
     "end_time": "2025-03-10T11:29:23.121036",
     "exception": false,
     "start_time": "2025-03-10T11:29:23.081979",
     "status": "completed"
    },
    "tags": []
   },
   "outputs": [],
   "source": [
    "# Create Child status\n",
    "df.loc[df.Age.le(18), 'Status'] = 'Child'\n",
    "df.loc[df.Title.eq('Master'), 'Status'] = 'Child'\n",
    "\n",
    "# Create Mother status\n",
    "df.loc[(df.Title.eq('Mrs') & df.Parch.gt(0)), 'Status'] = 'Mother'\n",
    "\n",
    "# Create Woman status\n",
    "df.loc[(df.Status.isna() & df.Sex.eq('female')), 'Status'] = 'Woman'\n",
    "\n",
    "# Create Man status\n",
    "df.loc[(df.Status.isna() & df.Sex.eq('male')), 'Status'] = 'Man'"
   ]
  },
  {
   "cell_type": "markdown",
   "id": "59ce0a5b",
   "metadata": {
    "papermill": {
     "duration": 0.018008,
     "end_time": "2025-03-10T11:29:23.157713",
     "exception": false,
     "start_time": "2025-03-10T11:29:23.139705",
     "status": "completed"
    },
    "tags": []
   },
   "source": [
    "# Create Price\n",
    "\n",
    "We should divide the Fare by number of passengers on the same ticket"
   ]
  },
  {
   "cell_type": "code",
   "execution_count": 17,
   "id": "44d8da41",
   "metadata": {
    "execution": {
     "iopub.execute_input": "2025-03-10T11:29:23.196008Z",
     "iopub.status.busy": "2025-03-10T11:29:23.195571Z",
     "iopub.status.idle": "2025-03-10T11:29:23.218982Z",
     "shell.execute_reply": "2025-03-10T11:29:23.217719Z"
    },
    "papermill": {
     "duration": 0.045926,
     "end_time": "2025-03-10T11:29:23.221685",
     "exception": false,
     "start_time": "2025-03-10T11:29:23.175759",
     "status": "completed"
    },
    "tags": []
   },
   "outputs": [
    {
     "data": {
      "text/plain": [
       "1"
      ]
     },
     "execution_count": 17,
     "metadata": {},
     "output_type": "execute_result"
    }
   ],
   "source": [
    "# Analyze Fare by ticket number to be sure that the Fare represents \n",
    "# the full price of the ticket and not the price per person\n",
    "\n",
    "# Split Ticket by series and number\n",
    "df['Ticket_series'] = [i[0] if len(i) > 1 else 0 for i in df.Ticket.str.split()]\n",
    "df['Ticket_nr'] = [i[-1] for i in df.Ticket.str.split()]\n",
    "\n",
    "# Check if Fare min and Fare max of the same ticket number are the same\n",
    "df_fare = df[~df.Fare.isna()]\n",
    "multi_tickets = df_fare.groupby(df_fare.Ticket_nr[df_fare.Ticket_nr.duplicated()])\n",
    "(multi_tickets.Fare.min() != multi_tickets.Fare.max()).sum()"
   ]
  },
  {
   "cell_type": "markdown",
   "id": "463be14d",
   "metadata": {
    "execution": {
     "iopub.execute_input": "2023-02-04T20:10:52.855161Z",
     "iopub.status.busy": "2023-02-04T20:10:52.854685Z",
     "iopub.status.idle": "2023-02-04T20:10:52.865727Z",
     "shell.execute_reply": "2023-02-04T20:10:52.864764Z",
     "shell.execute_reply.started": "2023-02-04T20:10:52.85512Z"
    },
    "papermill": {
     "duration": 0.017469,
     "end_time": "2025-03-10T11:29:23.257029",
     "exception": false,
     "start_time": "2025-03-10T11:29:23.239560",
     "status": "completed"
    },
    "tags": []
   },
   "source": [
    "There is just 1 ticket where min and max don't corespond, we will ignore it as a mistake"
   ]
  },
  {
   "cell_type": "code",
   "execution_count": 18,
   "id": "eef2d58c",
   "metadata": {
    "execution": {
     "iopub.execute_input": "2025-03-10T11:29:23.297031Z",
     "iopub.status.busy": "2025-03-10T11:29:23.296572Z",
     "iopub.status.idle": "2025-03-10T11:29:23.309742Z",
     "shell.execute_reply": "2025-03-10T11:29:23.308580Z"
    },
    "papermill": {
     "duration": 0.036752,
     "end_time": "2025-03-10T11:29:23.312791",
     "exception": false,
     "start_time": "2025-03-10T11:29:23.276039",
     "status": "completed"
    },
    "tags": []
   },
   "outputs": [],
   "source": [
    "# Create a column with the passengers number by ticket \n",
    "ticket_dict = df.groupby('Ticket_nr').Lastname.count().to_dict()\n",
    "df['Passengers_ticket'] = df.Ticket_nr.map(ticket_dict)\n",
    "\n",
    "# Create Price column\n",
    "df['Price'] = (df.Fare / df.Passengers_ticket).round(1)"
   ]
  },
  {
   "cell_type": "markdown",
   "id": "ec7a2e47",
   "metadata": {
    "papermill": {
     "duration": 0.017601,
     "end_time": "2025-03-10T11:29:23.348253",
     "exception": false,
     "start_time": "2025-03-10T11:29:23.330652",
     "status": "completed"
    },
    "tags": []
   },
   "source": [
    "# Create Deck\n",
    "\n",
    "This will have the deck letter"
   ]
  },
  {
   "cell_type": "code",
   "execution_count": 19,
   "id": "8faf2f17",
   "metadata": {
    "execution": {
     "iopub.execute_input": "2025-03-10T11:29:23.386078Z",
     "iopub.status.busy": "2025-03-10T11:29:23.385653Z",
     "iopub.status.idle": "2025-03-10T11:29:23.395833Z",
     "shell.execute_reply": "2025-03-10T11:29:23.394612Z"
    },
    "papermill": {
     "duration": 0.032147,
     "end_time": "2025-03-10T11:29:23.398383",
     "exception": false,
     "start_time": "2025-03-10T11:29:23.366236",
     "status": "completed"
    },
    "tags": []
   },
   "outputs": [
    {
     "data": {
      "text/plain": [
       "1014"
      ]
     },
     "execution_count": 19,
     "metadata": {},
     "output_type": "execute_result"
    }
   ],
   "source": [
    "# Extract Deck letter from Cabin column\n",
    "df['Deck'] = df.Cabin.str[0]\n",
    "\n",
    "# Check how many missing values we have at this step\n",
    "df.Deck.isna().sum()"
   ]
  },
  {
   "cell_type": "code",
   "execution_count": 20,
   "id": "11c67529",
   "metadata": {
    "execution": {
     "iopub.execute_input": "2025-03-10T11:29:23.437451Z",
     "iopub.status.busy": "2025-03-10T11:29:23.436626Z",
     "iopub.status.idle": "2025-03-10T11:29:23.448014Z",
     "shell.execute_reply": "2025-03-10T11:29:23.446750Z"
    },
    "papermill": {
     "duration": 0.033286,
     "end_time": "2025-03-10T11:29:23.450449",
     "exception": false,
     "start_time": "2025-03-10T11:29:23.417163",
     "status": "completed"
    },
    "tags": []
   },
   "outputs": [
    {
     "data": {
      "text/plain": [
       "Pclass  Deck\n",
       "1       C       94\n",
       "        B       65\n",
       "        D       40\n",
       "        E       34\n",
       "        A       22\n",
       "        T        1\n",
       "2       F       13\n",
       "        D        6\n",
       "        E        4\n",
       "3       F        8\n",
       "        G        5\n",
       "        E        3\n",
       "Name: Deck, dtype: int64"
      ]
     },
     "execution_count": 20,
     "metadata": {},
     "output_type": "execute_result"
    }
   ],
   "source": [
    "# Deck distribution by Pclass\n",
    "df.groupby('Pclass').Deck.value_counts()"
   ]
  },
  {
   "cell_type": "code",
   "execution_count": 21,
   "id": "50aba3d2",
   "metadata": {
    "execution": {
     "iopub.execute_input": "2025-03-10T11:29:23.489185Z",
     "iopub.status.busy": "2025-03-10T11:29:23.488186Z",
     "iopub.status.idle": "2025-03-10T11:29:23.497933Z",
     "shell.execute_reply": "2025-03-10T11:29:23.496695Z"
    },
    "papermill": {
     "duration": 0.031839,
     "end_time": "2025-03-10T11:29:23.500492",
     "exception": false,
     "start_time": "2025-03-10T11:29:23.468653",
     "status": "completed"
    },
    "tags": []
   },
   "outputs": [
    {
     "data": {
      "text/plain": [
       "3    693\n",
       "2    254\n",
       "1     67\n",
       "Name: Pclass, dtype: int64"
      ]
     },
     "execution_count": 21,
     "metadata": {},
     "output_type": "execute_result"
    }
   ],
   "source": [
    "# Deck missing values by Pclass\n",
    "df.loc[df.Deck.isna(), 'Pclass'].value_counts()"
   ]
  },
  {
   "cell_type": "markdown",
   "id": "02086d50",
   "metadata": {
    "papermill": {
     "duration": 0.018644,
     "end_time": "2025-03-10T11:29:23.538040",
     "exception": false,
     "start_time": "2025-03-10T11:29:23.519396",
     "status": "completed"
    },
    "tags": []
   },
   "source": [
    "- On the 1st step we will impute the Deck letter based on Ticket_nr, if the same Ticket_nr has already an available \n",
    "  value for Deck in other rows\n",
    "  \n",
    "- On the 2nd step we will impute based on Lastname using the same method as in the first step, but to be sure that \n",
    "  the passengers are not from different families with the same Lastname we will use some filters in the process.\n",
    "\n",
    "- On the 3rd step we will impute based on Pclass, as every Pclass was on separate Deck with some intersections between \n",
    "  (some googling confirms that class-deck distribution corresponds to our Deck distribution by Pclass analysis). \n",
    "  To improve the accuracy we will check also the mean Price for each Pclass-Deck group to determine the Deck. "
   ]
  },
  {
   "cell_type": "code",
   "execution_count": 22,
   "id": "3f4a5a95",
   "metadata": {
    "execution": {
     "iopub.execute_input": "2025-03-10T11:29:23.578887Z",
     "iopub.status.busy": "2025-03-10T11:29:23.578458Z",
     "iopub.status.idle": "2025-03-10T11:29:23.586268Z",
     "shell.execute_reply": "2025-03-10T11:29:23.585166Z"
    },
    "papermill": {
     "duration": 0.029799,
     "end_time": "2025-03-10T11:29:23.588631",
     "exception": false,
     "start_time": "2025-03-10T11:29:23.558832",
     "status": "completed"
    },
    "tags": []
   },
   "outputs": [],
   "source": [
    "# Function for imputing Deck\n",
    "def impute_deck_by(feature):\n",
    "    for pclass in range(1, 4):\n",
    "        # Create a mapping dictionary\n",
    "        map_dic = (df[~df.Deck.isna() & df.Pclass.eq(pclass)]\n",
    "                   .groupby(feature).Deck.unique()\n",
    "                   .apply(list).to_dict())\n",
    "\n",
    "        # Keep just the keys with a single deck to avoid \n",
    "        # the same key on different decks\n",
    "        map_dic = {i:j[0] for i, j in map_dic.items() \n",
    "                   if len(j) == 1}\n",
    "\n",
    "        # Imputing Deck from map_dic\n",
    "        df.loc[df.Deck.isna() & df.Pclass.eq(pclass), \n",
    "               'Deck'] = df[feature].map(map_dic)\n",
    "\n",
    "    # Check how many missing values we have at this step\n",
    "    print(df.Deck.isna().sum())"
   ]
  },
  {
   "cell_type": "code",
   "execution_count": 23,
   "id": "98e135eb",
   "metadata": {
    "execution": {
     "iopub.execute_input": "2025-03-10T11:29:23.626558Z",
     "iopub.status.busy": "2025-03-10T11:29:23.626144Z",
     "iopub.status.idle": "2025-03-10T11:29:23.658265Z",
     "shell.execute_reply": "2025-03-10T11:29:23.656961Z"
    },
    "papermill": {
     "duration": 0.054516,
     "end_time": "2025-03-10T11:29:23.661154",
     "exception": false,
     "start_time": "2025-03-10T11:29:23.606638",
     "status": "completed"
    },
    "tags": []
   },
   "outputs": [
    {
     "name": "stdout",
     "output_type": "stream",
     "text": [
      "997\n"
     ]
    }
   ],
   "source": [
    "impute_deck_by('Ticket_nr')"
   ]
  },
  {
   "cell_type": "code",
   "execution_count": 24,
   "id": "54dc151f",
   "metadata": {
    "execution": {
     "iopub.execute_input": "2025-03-10T11:29:23.699412Z",
     "iopub.status.busy": "2025-03-10T11:29:23.699000Z",
     "iopub.status.idle": "2025-03-10T11:29:23.742652Z",
     "shell.execute_reply": "2025-03-10T11:29:23.741438Z"
    },
    "papermill": {
     "duration": 0.066013,
     "end_time": "2025-03-10T11:29:23.745245",
     "exception": false,
     "start_time": "2025-03-10T11:29:23.679232",
     "status": "completed"
    },
    "tags": []
   },
   "outputs": [
    {
     "name": "stdout",
     "output_type": "stream",
     "text": [
      "989\n"
     ]
    }
   ],
   "source": [
    "impute_deck_by('Lastname')"
   ]
  },
  {
   "cell_type": "markdown",
   "id": "5e67e7cc",
   "metadata": {
    "papermill": {
     "duration": 0.018766,
     "end_time": "2025-03-10T11:29:23.782211",
     "exception": false,
     "start_time": "2025-03-10T11:29:23.763445",
     "status": "completed"
    },
    "tags": []
   },
   "source": [
    "We have recovered 25 values, not much, but they correspond to reality,\n",
    "the rest we will impute later based on Pclass and Price as mentioned earlier."
   ]
  },
  {
   "cell_type": "markdown",
   "id": "0e621bed",
   "metadata": {
    "papermill": {
     "duration": 0.017982,
     "end_time": "2025-03-10T11:29:23.819553",
     "exception": false,
     "start_time": "2025-03-10T11:29:23.801571",
     "status": "completed"
    },
    "tags": []
   },
   "source": [
    "# Create Deck_survive_ratio\n",
    "\n",
    "Surviving probability by Deck, before imputing Deck and add noise"
   ]
  },
  {
   "cell_type": "code",
   "execution_count": 25,
   "id": "5f1d6fc1",
   "metadata": {
    "execution": {
     "iopub.execute_input": "2025-03-10T11:29:23.859452Z",
     "iopub.status.busy": "2025-03-10T11:29:23.859039Z",
     "iopub.status.idle": "2025-03-10T11:29:23.877734Z",
     "shell.execute_reply": "2025-03-10T11:29:23.876275Z"
    },
    "papermill": {
     "duration": 0.042533,
     "end_time": "2025-03-10T11:29:23.880476",
     "exception": false,
     "start_time": "2025-03-10T11:29:23.837943",
     "status": "completed"
    },
    "tags": []
   },
   "outputs": [],
   "source": [
    "# Extract Deck letter from Cabin column\n",
    "full_df['Deck'] = full_df.Cabin.str[0]\n",
    "\n",
    "# Total Survived by available Deck data\n",
    "deck_total_survived = full_df.groupby('Deck').Survived.sum()\n",
    "\n",
    "# Total passengers by available Deck data\n",
    "deck_people = full_df.groupby('Deck').Deck.count()\n",
    "\n",
    "# Deck and surviving chance pairs \n",
    "deck_survived_dict = (deck_total_survived / deck_people).round(2).to_dict()\n",
    "\n",
    "# Total Survived where Deck data is missing\n",
    "deck_nan_survived = full_df.loc[full_df.Deck.isna(), 'Survived']\n",
    "\n",
    "# Add to dictionary an additional entry for missing Deck surviving chance\n",
    "deck_survived_dict['M'] = (deck_nan_survived.value_counts() / deck_nan_survived.count()).round(2)[1]\n",
    "\n",
    "# Create Deck_survive_ratio\n",
    "df['Deck_survive_ratio'] = df.Deck.fillna('M')\n",
    "\n",
    "df.Deck_survive_ratio = df.Deck_survive_ratio.map(deck_survived_dict).astype('float')"
   ]
  },
  {
   "cell_type": "markdown",
   "id": "e33b31c9",
   "metadata": {
    "papermill": {
     "duration": 0.018269,
     "end_time": "2025-03-10T11:29:23.917196",
     "exception": false,
     "start_time": "2025-03-10T11:29:23.898927",
     "status": "completed"
    },
    "tags": []
   },
   "source": [
    "# Analyze and impute missing prices\n",
    "\n",
    "We impute prices first as there are less missing values in Price than in Deck and we use them both for imputation"
   ]
  },
  {
   "cell_type": "code",
   "execution_count": 26,
   "id": "7d5cb55c",
   "metadata": {
    "execution": {
     "iopub.execute_input": "2025-03-10T11:29:23.956398Z",
     "iopub.status.busy": "2025-03-10T11:29:23.955966Z",
     "iopub.status.idle": "2025-03-10T11:29:24.013486Z",
     "shell.execute_reply": "2025-03-10T11:29:24.012332Z"
    },
    "papermill": {
     "duration": 0.080888,
     "end_time": "2025-03-10T11:29:24.016322",
     "exception": false,
     "start_time": "2025-03-10T11:29:23.935434",
     "status": "completed"
    },
    "tags": []
   },
   "outputs": [
    {
     "data": {
      "text/html": [
       "<div>\n",
       "<style scoped>\n",
       "    .dataframe tbody tr th:only-of-type {\n",
       "        vertical-align: middle;\n",
       "    }\n",
       "\n",
       "    .dataframe tbody tr th {\n",
       "        vertical-align: top;\n",
       "    }\n",
       "\n",
       "    .dataframe thead th {\n",
       "        text-align: right;\n",
       "    }\n",
       "</style>\n",
       "<table border=\"1\" class=\"dataframe\">\n",
       "  <thead>\n",
       "    <tr style=\"text-align: right;\">\n",
       "      <th></th>\n",
       "      <th></th>\n",
       "      <th>count</th>\n",
       "      <th>mean</th>\n",
       "      <th>std</th>\n",
       "      <th>min</th>\n",
       "      <th>25%</th>\n",
       "      <th>50%</th>\n",
       "      <th>75%</th>\n",
       "      <th>max</th>\n",
       "    </tr>\n",
       "    <tr>\n",
       "      <th>Pclass</th>\n",
       "      <th>Deck</th>\n",
       "      <th></th>\n",
       "      <th></th>\n",
       "      <th></th>\n",
       "      <th></th>\n",
       "      <th></th>\n",
       "      <th></th>\n",
       "      <th></th>\n",
       "      <th></th>\n",
       "    </tr>\n",
       "  </thead>\n",
       "  <tbody>\n",
       "    <tr>\n",
       "      <th rowspan=\"6\" valign=\"top\">1</th>\n",
       "      <th>A</th>\n",
       "      <td>21.0</td>\n",
       "      <td>32.823810</td>\n",
       "      <td>7.056125</td>\n",
       "      <td>26.0</td>\n",
       "      <td>27.700</td>\n",
       "      <td>30.50</td>\n",
       "      <td>35.500</td>\n",
       "      <td>50.5</td>\n",
       "    </tr>\n",
       "    <tr>\n",
       "      <th>B</th>\n",
       "      <td>65.0</td>\n",
       "      <td>42.983077</td>\n",
       "      <td>25.865606</td>\n",
       "      <td>5.0</td>\n",
       "      <td>29.000</td>\n",
       "      <td>37.50</td>\n",
       "      <td>45.500</td>\n",
       "      <td>128.1</td>\n",
       "    </tr>\n",
       "    <tr>\n",
       "      <th>C</th>\n",
       "      <td>105.0</td>\n",
       "      <td>35.783810</td>\n",
       "      <td>9.732540</td>\n",
       "      <td>25.3</td>\n",
       "      <td>27.700</td>\n",
       "      <td>33.90</td>\n",
       "      <td>42.300</td>\n",
       "      <td>68.4</td>\n",
       "    </tr>\n",
       "    <tr>\n",
       "      <th>D</th>\n",
       "      <td>42.0</td>\n",
       "      <td>31.776190</td>\n",
       "      <td>9.698650</td>\n",
       "      <td>19.7</td>\n",
       "      <td>26.000</td>\n",
       "      <td>27.15</td>\n",
       "      <td>37.750</td>\n",
       "      <td>66.8</td>\n",
       "    </tr>\n",
       "    <tr>\n",
       "      <th>E</th>\n",
       "      <td>35.0</td>\n",
       "      <td>26.177143</td>\n",
       "      <td>5.033715</td>\n",
       "      <td>8.8</td>\n",
       "      <td>26.450</td>\n",
       "      <td>26.90</td>\n",
       "      <td>27.700</td>\n",
       "      <td>38.5</td>\n",
       "    </tr>\n",
       "    <tr>\n",
       "      <th>T</th>\n",
       "      <td>1.0</td>\n",
       "      <td>35.500000</td>\n",
       "      <td>NaN</td>\n",
       "      <td>35.5</td>\n",
       "      <td>35.500</td>\n",
       "      <td>35.50</td>\n",
       "      <td>35.500</td>\n",
       "      <td>35.5</td>\n",
       "    </tr>\n",
       "    <tr>\n",
       "      <th rowspan=\"3\" valign=\"top\">2</th>\n",
       "      <th>D</th>\n",
       "      <td>6.0</td>\n",
       "      <td>13.600000</td>\n",
       "      <td>0.812404</td>\n",
       "      <td>12.9</td>\n",
       "      <td>13.000</td>\n",
       "      <td>13.40</td>\n",
       "      <td>13.875</td>\n",
       "      <td>15.0</td>\n",
       "    </tr>\n",
       "    <tr>\n",
       "      <th>E</th>\n",
       "      <td>6.0</td>\n",
       "      <td>9.783333</td>\n",
       "      <td>3.648790</td>\n",
       "      <td>5.2</td>\n",
       "      <td>6.525</td>\n",
       "      <td>11.45</td>\n",
       "      <td>12.400</td>\n",
       "      <td>13.0</td>\n",
       "    </tr>\n",
       "    <tr>\n",
       "      <th>F</th>\n",
       "      <td>16.0</td>\n",
       "      <td>10.925000</td>\n",
       "      <td>1.756701</td>\n",
       "      <td>8.7</td>\n",
       "      <td>9.800</td>\n",
       "      <td>10.50</td>\n",
       "      <td>13.000</td>\n",
       "      <td>13.0</td>\n",
       "    </tr>\n",
       "    <tr>\n",
       "      <th rowspan=\"3\" valign=\"top\">3</th>\n",
       "      <th>E</th>\n",
       "      <td>3.0</td>\n",
       "      <td>6.800000</td>\n",
       "      <td>1.039230</td>\n",
       "      <td>6.2</td>\n",
       "      <td>6.200</td>\n",
       "      <td>6.20</td>\n",
       "      <td>7.100</td>\n",
       "      <td>8.0</td>\n",
       "    </tr>\n",
       "    <tr>\n",
       "      <th>F</th>\n",
       "      <td>11.0</td>\n",
       "      <td>7.518182</td>\n",
       "      <td>0.177866</td>\n",
       "      <td>7.2</td>\n",
       "      <td>7.500</td>\n",
       "      <td>7.60</td>\n",
       "      <td>7.600</td>\n",
       "      <td>7.8</td>\n",
       "    </tr>\n",
       "    <tr>\n",
       "      <th>G</th>\n",
       "      <td>5.0</td>\n",
       "      <td>5.440000</td>\n",
       "      <td>0.219089</td>\n",
       "      <td>5.2</td>\n",
       "      <td>5.200</td>\n",
       "      <td>5.60</td>\n",
       "      <td>5.600</td>\n",
       "      <td>5.6</td>\n",
       "    </tr>\n",
       "  </tbody>\n",
       "</table>\n",
       "</div>"
      ],
      "text/plain": [
       "             count       mean        std   min     25%    50%     75%    max\n",
       "Pclass Deck                                                                 \n",
       "1      A      21.0  32.823810   7.056125  26.0  27.700  30.50  35.500   50.5\n",
       "       B      65.0  42.983077  25.865606   5.0  29.000  37.50  45.500  128.1\n",
       "       C     105.0  35.783810   9.732540  25.3  27.700  33.90  42.300   68.4\n",
       "       D      42.0  31.776190   9.698650  19.7  26.000  27.15  37.750   66.8\n",
       "       E      35.0  26.177143   5.033715   8.8  26.450  26.90  27.700   38.5\n",
       "       T       1.0  35.500000        NaN  35.5  35.500  35.50  35.500   35.5\n",
       "2      D       6.0  13.600000   0.812404  12.9  13.000  13.40  13.875   15.0\n",
       "       E       6.0   9.783333   3.648790   5.2   6.525  11.45  12.400   13.0\n",
       "       F      16.0  10.925000   1.756701   8.7   9.800  10.50  13.000   13.0\n",
       "3      E       3.0   6.800000   1.039230   6.2   6.200   6.20   7.100    8.0\n",
       "       F      11.0   7.518182   0.177866   7.2   7.500   7.60   7.600    7.8\n",
       "       G       5.0   5.440000   0.219089   5.2   5.200   5.60   5.600    5.6"
      ]
     },
     "execution_count": 26,
     "metadata": {},
     "output_type": "execute_result"
    }
   ],
   "source": [
    "# Analyze Price by Deck and Pclass\n",
    "df.groupby(['Pclass', 'Deck']).Price.describe()"
   ]
  },
  {
   "cell_type": "markdown",
   "id": "0281e640",
   "metadata": {
    "papermill": {
     "duration": 0.018029,
     "end_time": "2025-03-10T11:29:24.052767",
     "exception": false,
     "start_time": "2025-03-10T11:29:24.034738",
     "status": "completed"
    },
    "tags": []
   },
   "source": [
    "Very large standard deviation in Pclass 1, Deck B comparing to others, we should analyze this."
   ]
  },
  {
   "cell_type": "code",
   "execution_count": 27,
   "id": "3b50b6b4",
   "metadata": {
    "execution": {
     "iopub.execute_input": "2025-03-10T11:29:24.091812Z",
     "iopub.status.busy": "2025-03-10T11:29:24.091426Z",
     "iopub.status.idle": "2025-03-10T11:29:24.098385Z",
     "shell.execute_reply": "2025-03-10T11:29:24.097207Z"
    },
    "papermill": {
     "duration": 0.029714,
     "end_time": "2025-03-10T11:29:24.100663",
     "exception": false,
     "start_time": "2025-03-10T11:29:24.070949",
     "status": "completed"
    },
    "tags": []
   },
   "outputs": [],
   "source": [
    "# Cabin T was on the upper deck (google helps), \n",
    "# so we will replace it with A deck as it has just a single value\n",
    "df.loc[df.Deck.eq('T'), 'Deck'] = 'A'"
   ]
  },
  {
   "cell_type": "code",
   "execution_count": 28,
   "id": "754aa007",
   "metadata": {
    "execution": {
     "iopub.execute_input": "2025-03-10T11:29:24.139142Z",
     "iopub.status.busy": "2025-03-10T11:29:24.138735Z",
     "iopub.status.idle": "2025-03-10T11:29:24.163243Z",
     "shell.execute_reply": "2025-03-10T11:29:24.162090Z"
    },
    "papermill": {
     "duration": 0.046619,
     "end_time": "2025-03-10T11:29:24.165734",
     "exception": false,
     "start_time": "2025-03-10T11:29:24.119115",
     "status": "completed"
    },
    "tags": []
   },
   "outputs": [
    {
     "data": {
      "text/html": [
       "<div>\n",
       "<style scoped>\n",
       "    .dataframe tbody tr th:only-of-type {\n",
       "        vertical-align: middle;\n",
       "    }\n",
       "\n",
       "    .dataframe tbody tr th {\n",
       "        vertical-align: top;\n",
       "    }\n",
       "\n",
       "    .dataframe thead th {\n",
       "        text-align: right;\n",
       "    }\n",
       "</style>\n",
       "<table border=\"1\" class=\"dataframe\">\n",
       "  <thead>\n",
       "    <tr style=\"text-align: right;\">\n",
       "      <th></th>\n",
       "      <th>Pclass</th>\n",
       "      <th>Name</th>\n",
       "      <th>Sex</th>\n",
       "      <th>Age</th>\n",
       "      <th>SibSp</th>\n",
       "      <th>Parch</th>\n",
       "      <th>Ticket</th>\n",
       "      <th>Fare</th>\n",
       "      <th>Cabin</th>\n",
       "      <th>Embarked</th>\n",
       "      <th>Lastname</th>\n",
       "      <th>Title</th>\n",
       "      <th>Status</th>\n",
       "      <th>Ticket_series</th>\n",
       "      <th>Ticket_nr</th>\n",
       "      <th>Passengers_ticket</th>\n",
       "      <th>Price</th>\n",
       "      <th>Deck</th>\n",
       "      <th>Deck_survive_ratio</th>\n",
       "    </tr>\n",
       "  </thead>\n",
       "  <tbody>\n",
       "    <tr>\n",
       "      <th>872</th>\n",
       "      <td>1</td>\n",
       "      <td>Carlsson, Mr. Frans Olof</td>\n",
       "      <td>male</td>\n",
       "      <td>33.0</td>\n",
       "      <td>0</td>\n",
       "      <td>0</td>\n",
       "      <td>695</td>\n",
       "      <td>5.0</td>\n",
       "      <td>B51 B53 B55</td>\n",
       "      <td>S</td>\n",
       "      <td>Carlsson</td>\n",
       "      <td>Mr</td>\n",
       "      <td>Man</td>\n",
       "      <td>0</td>\n",
       "      <td>695</td>\n",
       "      <td>1</td>\n",
       "      <td>5.0</td>\n",
       "      <td>B</td>\n",
       "      <td>0.74</td>\n",
       "    </tr>\n",
       "    <tr>\n",
       "      <th>690</th>\n",
       "      <td>1</td>\n",
       "      <td>Dick, Mr. Albert Adrian</td>\n",
       "      <td>male</td>\n",
       "      <td>31.0</td>\n",
       "      <td>1</td>\n",
       "      <td>0</td>\n",
       "      <td>17474</td>\n",
       "      <td>57.0</td>\n",
       "      <td>B20</td>\n",
       "      <td>S</td>\n",
       "      <td>Dick</td>\n",
       "      <td>Mr</td>\n",
       "      <td>Man</td>\n",
       "      <td>0</td>\n",
       "      <td>17474</td>\n",
       "      <td>3</td>\n",
       "      <td>19.0</td>\n",
       "      <td>B</td>\n",
       "      <td>0.74</td>\n",
       "    </tr>\n",
       "    <tr>\n",
       "      <th>781</th>\n",
       "      <td>1</td>\n",
       "      <td>Dick, Mrs. Albert Adrian (Vera Gillespie)</td>\n",
       "      <td>female</td>\n",
       "      <td>17.0</td>\n",
       "      <td>1</td>\n",
       "      <td>0</td>\n",
       "      <td>17474</td>\n",
       "      <td>57.0</td>\n",
       "      <td>B20</td>\n",
       "      <td>S</td>\n",
       "      <td>Dick</td>\n",
       "      <td>Miss</td>\n",
       "      <td>Child</td>\n",
       "      <td>0</td>\n",
       "      <td>17474</td>\n",
       "      <td>3</td>\n",
       "      <td>19.0</td>\n",
       "      <td>B</td>\n",
       "      <td>0.74</td>\n",
       "    </tr>\n",
       "    <tr>\n",
       "      <th>1199</th>\n",
       "      <td>1</td>\n",
       "      <td>Hays, Mr. Charles Melville</td>\n",
       "      <td>male</td>\n",
       "      <td>55.0</td>\n",
       "      <td>1</td>\n",
       "      <td>1</td>\n",
       "      <td>12749</td>\n",
       "      <td>93.5</td>\n",
       "      <td>B69</td>\n",
       "      <td>S</td>\n",
       "      <td>Hays</td>\n",
       "      <td>Mr</td>\n",
       "      <td>Man</td>\n",
       "      <td>0</td>\n",
       "      <td>12749</td>\n",
       "      <td>4</td>\n",
       "      <td>23.4</td>\n",
       "      <td>B</td>\n",
       "      <td>0.74</td>\n",
       "    </tr>\n",
       "    <tr>\n",
       "      <th>1281</th>\n",
       "      <td>1</td>\n",
       "      <td>Payne, Mr. Vivian Ponsonby</td>\n",
       "      <td>male</td>\n",
       "      <td>23.0</td>\n",
       "      <td>0</td>\n",
       "      <td>0</td>\n",
       "      <td>12749</td>\n",
       "      <td>93.5</td>\n",
       "      <td>B24</td>\n",
       "      <td>S</td>\n",
       "      <td>Payne</td>\n",
       "      <td>Mr</td>\n",
       "      <td>Man</td>\n",
       "      <td>0</td>\n",
       "      <td>12749</td>\n",
       "      <td>4</td>\n",
       "      <td>23.4</td>\n",
       "      <td>B</td>\n",
       "      <td>0.74</td>\n",
       "    </tr>\n",
       "  </tbody>\n",
       "</table>\n",
       "</div>"
      ],
      "text/plain": [
       "      Pclass                                       Name     Sex   Age  SibSp  \\\n",
       "872        1                   Carlsson, Mr. Frans Olof    male  33.0      0   \n",
       "690        1                    Dick, Mr. Albert Adrian    male  31.0      1   \n",
       "781        1  Dick, Mrs. Albert Adrian (Vera Gillespie)  female  17.0      1   \n",
       "1199       1                 Hays, Mr. Charles Melville    male  55.0      1   \n",
       "1281       1                 Payne, Mr. Vivian Ponsonby    male  23.0      0   \n",
       "\n",
       "      Parch Ticket  Fare        Cabin Embarked  Lastname Title Status  \\\n",
       "872       0    695   5.0  B51 B53 B55        S  Carlsson    Mr    Man   \n",
       "690       0  17474  57.0          B20        S      Dick    Mr    Man   \n",
       "781       0  17474  57.0          B20        S      Dick  Miss  Child   \n",
       "1199      1  12749  93.5          B69        S      Hays    Mr    Man   \n",
       "1281      0  12749  93.5          B24        S     Payne    Mr    Man   \n",
       "\n",
       "     Ticket_series Ticket_nr  Passengers_ticket  Price Deck  \\\n",
       "872              0       695                  1    5.0    B   \n",
       "690              0     17474                  3   19.0    B   \n",
       "781              0     17474                  3   19.0    B   \n",
       "1199             0     12749                  4   23.4    B   \n",
       "1281             0     12749                  4   23.4    B   \n",
       "\n",
       "      Deck_survive_ratio  \n",
       "872                 0.74  \n",
       "690                 0.74  \n",
       "781                 0.74  \n",
       "1199                0.74  \n",
       "1281                0.74  "
      ]
     },
     "execution_count": 28,
     "metadata": {},
     "output_type": "execute_result"
    }
   ],
   "source": [
    "# Check the cheapest prices for Deck B\n",
    "df[df.Deck.eq('B')].sort_values('Price').head()"
   ]
  },
  {
   "cell_type": "code",
   "execution_count": 29,
   "id": "be9493a7",
   "metadata": {
    "execution": {
     "iopub.execute_input": "2025-03-10T11:29:24.204793Z",
     "iopub.status.busy": "2025-03-10T11:29:24.204408Z",
     "iopub.status.idle": "2025-03-10T11:29:24.211581Z",
     "shell.execute_reply": "2025-03-10T11:29:24.210352Z"
    },
    "papermill": {
     "duration": 0.029607,
     "end_time": "2025-03-10T11:29:24.214086",
     "exception": false,
     "start_time": "2025-03-10T11:29:24.184479",
     "status": "completed"
    },
    "tags": []
   },
   "outputs": [],
   "source": [
    "# Maybe Mr Carlsson paid just 5 pounds for that 1st class ticket, \n",
    "# but this value is an outlier that we will replace with the next min\n",
    "df.loc[(df.Deck.eq('B') & df.Price.lt(19)), 'Price'] = 19"
   ]
  },
  {
   "cell_type": "code",
   "execution_count": 30,
   "id": "912a2a8b",
   "metadata": {
    "execution": {
     "iopub.execute_input": "2025-03-10T11:29:24.254827Z",
     "iopub.status.busy": "2025-03-10T11:29:24.254395Z",
     "iopub.status.idle": "2025-03-10T11:29:24.282215Z",
     "shell.execute_reply": "2025-03-10T11:29:24.281016Z"
    },
    "papermill": {
     "duration": 0.051817,
     "end_time": "2025-03-10T11:29:24.284903",
     "exception": false,
     "start_time": "2025-03-10T11:29:24.233086",
     "status": "completed"
    },
    "tags": []
   },
   "outputs": [
    {
     "data": {
      "text/html": [
       "<div>\n",
       "<style scoped>\n",
       "    .dataframe tbody tr th:only-of-type {\n",
       "        vertical-align: middle;\n",
       "    }\n",
       "\n",
       "    .dataframe tbody tr th {\n",
       "        vertical-align: top;\n",
       "    }\n",
       "\n",
       "    .dataframe thead th {\n",
       "        text-align: right;\n",
       "    }\n",
       "</style>\n",
       "<table border=\"1\" class=\"dataframe\">\n",
       "  <thead>\n",
       "    <tr style=\"text-align: right;\">\n",
       "      <th></th>\n",
       "      <th>Pclass</th>\n",
       "      <th>Name</th>\n",
       "      <th>Sex</th>\n",
       "      <th>Age</th>\n",
       "      <th>SibSp</th>\n",
       "      <th>Parch</th>\n",
       "      <th>Ticket</th>\n",
       "      <th>Fare</th>\n",
       "      <th>Cabin</th>\n",
       "      <th>Embarked</th>\n",
       "      <th>Lastname</th>\n",
       "      <th>Title</th>\n",
       "      <th>Status</th>\n",
       "      <th>Ticket_series</th>\n",
       "      <th>Ticket_nr</th>\n",
       "      <th>Passengers_ticket</th>\n",
       "      <th>Price</th>\n",
       "      <th>Deck</th>\n",
       "      <th>Deck_survive_ratio</th>\n",
       "    </tr>\n",
       "  </thead>\n",
       "  <tbody>\n",
       "    <tr>\n",
       "      <th>1234</th>\n",
       "      <td>1</td>\n",
       "      <td>Cardeza, Mrs. James Warburton Martinez (Charlo...</td>\n",
       "      <td>female</td>\n",
       "      <td>58.0</td>\n",
       "      <td>0</td>\n",
       "      <td>1</td>\n",
       "      <td>PC 17755</td>\n",
       "      <td>512.3292</td>\n",
       "      <td>B51 B53 B55</td>\n",
       "      <td>C</td>\n",
       "      <td>Cardeza</td>\n",
       "      <td>Mrs</td>\n",
       "      <td>Mother</td>\n",
       "      <td>PC</td>\n",
       "      <td>17755</td>\n",
       "      <td>4</td>\n",
       "      <td>128.1</td>\n",
       "      <td>B</td>\n",
       "      <td>0.74</td>\n",
       "    </tr>\n",
       "    <tr>\n",
       "      <th>258</th>\n",
       "      <td>1</td>\n",
       "      <td>Ward, Miss. Anna</td>\n",
       "      <td>female</td>\n",
       "      <td>35.0</td>\n",
       "      <td>0</td>\n",
       "      <td>0</td>\n",
       "      <td>PC 17755</td>\n",
       "      <td>512.3292</td>\n",
       "      <td>NaN</td>\n",
       "      <td>C</td>\n",
       "      <td>Ward</td>\n",
       "      <td>Miss</td>\n",
       "      <td>Woman</td>\n",
       "      <td>PC</td>\n",
       "      <td>17755</td>\n",
       "      <td>4</td>\n",
       "      <td>128.1</td>\n",
       "      <td>B</td>\n",
       "      <td>0.74</td>\n",
       "    </tr>\n",
       "    <tr>\n",
       "      <th>737</th>\n",
       "      <td>1</td>\n",
       "      <td>Lesurer, Mr. Gustave J</td>\n",
       "      <td>male</td>\n",
       "      <td>35.0</td>\n",
       "      <td>0</td>\n",
       "      <td>0</td>\n",
       "      <td>PC 17755</td>\n",
       "      <td>512.3292</td>\n",
       "      <td>B101</td>\n",
       "      <td>C</td>\n",
       "      <td>Lesurer</td>\n",
       "      <td>Mr</td>\n",
       "      <td>Man</td>\n",
       "      <td>PC</td>\n",
       "      <td>17755</td>\n",
       "      <td>4</td>\n",
       "      <td>128.1</td>\n",
       "      <td>B</td>\n",
       "      <td>0.74</td>\n",
       "    </tr>\n",
       "    <tr>\n",
       "      <th>679</th>\n",
       "      <td>1</td>\n",
       "      <td>Cardeza, Mr. Thomas Drake Martinez</td>\n",
       "      <td>male</td>\n",
       "      <td>36.0</td>\n",
       "      <td>0</td>\n",
       "      <td>1</td>\n",
       "      <td>PC 17755</td>\n",
       "      <td>512.3292</td>\n",
       "      <td>B51 B53 B55</td>\n",
       "      <td>C</td>\n",
       "      <td>Cardeza</td>\n",
       "      <td>Mr</td>\n",
       "      <td>Man</td>\n",
       "      <td>PC</td>\n",
       "      <td>17755</td>\n",
       "      <td>4</td>\n",
       "      <td>128.1</td>\n",
       "      <td>B</td>\n",
       "      <td>0.74</td>\n",
       "    </tr>\n",
       "    <tr>\n",
       "      <th>118</th>\n",
       "      <td>1</td>\n",
       "      <td>Baxter, Mr. Quigg Edmond</td>\n",
       "      <td>male</td>\n",
       "      <td>24.0</td>\n",
       "      <td>0</td>\n",
       "      <td>1</td>\n",
       "      <td>PC 17558</td>\n",
       "      <td>247.5208</td>\n",
       "      <td>B58 B60</td>\n",
       "      <td>C</td>\n",
       "      <td>Baxter</td>\n",
       "      <td>Mr</td>\n",
       "      <td>Man</td>\n",
       "      <td>PC</td>\n",
       "      <td>17558</td>\n",
       "      <td>3</td>\n",
       "      <td>82.5</td>\n",
       "      <td>B</td>\n",
       "      <td>0.74</td>\n",
       "    </tr>\n",
       "    <tr>\n",
       "      <th>1075</th>\n",
       "      <td>1</td>\n",
       "      <td>Douglas, Mrs. Frederick Charles (Mary Helene B...</td>\n",
       "      <td>female</td>\n",
       "      <td>27.0</td>\n",
       "      <td>1</td>\n",
       "      <td>1</td>\n",
       "      <td>PC 17558</td>\n",
       "      <td>247.5208</td>\n",
       "      <td>B58 B60</td>\n",
       "      <td>C</td>\n",
       "      <td>Douglas</td>\n",
       "      <td>Mrs</td>\n",
       "      <td>Mother</td>\n",
       "      <td>PC</td>\n",
       "      <td>17558</td>\n",
       "      <td>3</td>\n",
       "      <td>82.5</td>\n",
       "      <td>B</td>\n",
       "      <td>0.74</td>\n",
       "    </tr>\n",
       "    <tr>\n",
       "      <th>299</th>\n",
       "      <td>1</td>\n",
       "      <td>Baxter, Mrs. James (Helene DeLaudeniere Chaput)</td>\n",
       "      <td>female</td>\n",
       "      <td>50.0</td>\n",
       "      <td>0</td>\n",
       "      <td>1</td>\n",
       "      <td>PC 17558</td>\n",
       "      <td>247.5208</td>\n",
       "      <td>B58 B60</td>\n",
       "      <td>C</td>\n",
       "      <td>Baxter</td>\n",
       "      <td>Mrs</td>\n",
       "      <td>Mother</td>\n",
       "      <td>PC</td>\n",
       "      <td>17558</td>\n",
       "      <td>3</td>\n",
       "      <td>82.5</td>\n",
       "      <td>B</td>\n",
       "      <td>0.74</td>\n",
       "    </tr>\n",
       "    <tr>\n",
       "      <th>730</th>\n",
       "      <td>1</td>\n",
       "      <td>Allen, Miss. Elisabeth Walton</td>\n",
       "      <td>female</td>\n",
       "      <td>29.0</td>\n",
       "      <td>0</td>\n",
       "      <td>0</td>\n",
       "      <td>24160</td>\n",
       "      <td>211.3375</td>\n",
       "      <td>B5</td>\n",
       "      <td>S</td>\n",
       "      <td>Allen</td>\n",
       "      <td>Miss</td>\n",
       "      <td>Woman</td>\n",
       "      <td>0</td>\n",
       "      <td>24160</td>\n",
       "      <td>4</td>\n",
       "      <td>52.8</td>\n",
       "      <td>B</td>\n",
       "      <td>0.74</td>\n",
       "    </tr>\n",
       "    <tr>\n",
       "      <th>1215</th>\n",
       "      <td>1</td>\n",
       "      <td>Kreuchen, Miss. Emilie</td>\n",
       "      <td>female</td>\n",
       "      <td>39.0</td>\n",
       "      <td>0</td>\n",
       "      <td>0</td>\n",
       "      <td>24160</td>\n",
       "      <td>211.3375</td>\n",
       "      <td>NaN</td>\n",
       "      <td>S</td>\n",
       "      <td>Kreuchen</td>\n",
       "      <td>Miss</td>\n",
       "      <td>Woman</td>\n",
       "      <td>0</td>\n",
       "      <td>24160</td>\n",
       "      <td>4</td>\n",
       "      <td>52.8</td>\n",
       "      <td>B</td>\n",
       "      <td>0.74</td>\n",
       "    </tr>\n",
       "    <tr>\n",
       "      <th>779</th>\n",
       "      <td>1</td>\n",
       "      <td>Robert, Mrs. Edward Scott (Elisabeth Walton Mc...</td>\n",
       "      <td>female</td>\n",
       "      <td>43.0</td>\n",
       "      <td>0</td>\n",
       "      <td>1</td>\n",
       "      <td>24160</td>\n",
       "      <td>211.3375</td>\n",
       "      <td>B3</td>\n",
       "      <td>S</td>\n",
       "      <td>Robert</td>\n",
       "      <td>Mrs</td>\n",
       "      <td>Mother</td>\n",
       "      <td>0</td>\n",
       "      <td>24160</td>\n",
       "      <td>4</td>\n",
       "      <td>52.8</td>\n",
       "      <td>B</td>\n",
       "      <td>0.74</td>\n",
       "    </tr>\n",
       "  </tbody>\n",
       "</table>\n",
       "</div>"
      ],
      "text/plain": [
       "      Pclass                                               Name     Sex   Age  \\\n",
       "1234       1  Cardeza, Mrs. James Warburton Martinez (Charlo...  female  58.0   \n",
       "258        1                                   Ward, Miss. Anna  female  35.0   \n",
       "737        1                             Lesurer, Mr. Gustave J    male  35.0   \n",
       "679        1                 Cardeza, Mr. Thomas Drake Martinez    male  36.0   \n",
       "118        1                           Baxter, Mr. Quigg Edmond    male  24.0   \n",
       "1075       1  Douglas, Mrs. Frederick Charles (Mary Helene B...  female  27.0   \n",
       "299        1    Baxter, Mrs. James (Helene DeLaudeniere Chaput)  female  50.0   \n",
       "730        1                      Allen, Miss. Elisabeth Walton  female  29.0   \n",
       "1215       1                             Kreuchen, Miss. Emilie  female  39.0   \n",
       "779        1  Robert, Mrs. Edward Scott (Elisabeth Walton Mc...  female  43.0   \n",
       "\n",
       "      SibSp  Parch    Ticket      Fare        Cabin Embarked  Lastname Title  \\\n",
       "1234      0      1  PC 17755  512.3292  B51 B53 B55        C   Cardeza   Mrs   \n",
       "258       0      0  PC 17755  512.3292          NaN        C      Ward  Miss   \n",
       "737       0      0  PC 17755  512.3292         B101        C   Lesurer    Mr   \n",
       "679       0      1  PC 17755  512.3292  B51 B53 B55        C   Cardeza    Mr   \n",
       "118       0      1  PC 17558  247.5208      B58 B60        C    Baxter    Mr   \n",
       "1075      1      1  PC 17558  247.5208      B58 B60        C   Douglas   Mrs   \n",
       "299       0      1  PC 17558  247.5208      B58 B60        C    Baxter   Mrs   \n",
       "730       0      0     24160  211.3375           B5        S     Allen  Miss   \n",
       "1215      0      0     24160  211.3375          NaN        S  Kreuchen  Miss   \n",
       "779       0      1     24160  211.3375           B3        S    Robert   Mrs   \n",
       "\n",
       "      Status Ticket_series Ticket_nr  Passengers_ticket  Price Deck  \\\n",
       "1234  Mother            PC     17755                  4  128.1    B   \n",
       "258    Woman            PC     17755                  4  128.1    B   \n",
       "737      Man            PC     17755                  4  128.1    B   \n",
       "679      Man            PC     17755                  4  128.1    B   \n",
       "118      Man            PC     17558                  3   82.5    B   \n",
       "1075  Mother            PC     17558                  3   82.5    B   \n",
       "299   Mother            PC     17558                  3   82.5    B   \n",
       "730    Woman             0     24160                  4   52.8    B   \n",
       "1215   Woman             0     24160                  4   52.8    B   \n",
       "779   Mother             0     24160                  4   52.8    B   \n",
       "\n",
       "      Deck_survive_ratio  \n",
       "1234                0.74  \n",
       "258                 0.74  \n",
       "737                 0.74  \n",
       "679                 0.74  \n",
       "118                 0.74  \n",
       "1075                0.74  \n",
       "299                 0.74  \n",
       "730                 0.74  \n",
       "1215                0.74  \n",
       "779                 0.74  "
      ]
     },
     "execution_count": 30,
     "metadata": {},
     "output_type": "execute_result"
    }
   ],
   "source": [
    "# Check the most expensive prices for Deck B\n",
    "df[df.Deck.eq('B')].sort_values('Price', ascending=False).head(10)"
   ]
  },
  {
   "cell_type": "code",
   "execution_count": 31,
   "id": "77a8edc9",
   "metadata": {
    "execution": {
     "iopub.execute_input": "2025-03-10T11:29:24.325565Z",
     "iopub.status.busy": "2025-03-10T11:29:24.325141Z",
     "iopub.status.idle": "2025-03-10T11:29:24.332498Z",
     "shell.execute_reply": "2025-03-10T11:29:24.331203Z"
    },
    "papermill": {
     "duration": 0.030621,
     "end_time": "2025-03-10T11:29:24.334928",
     "exception": false,
     "start_time": "2025-03-10T11:29:24.304307",
     "status": "completed"
    },
    "tags": []
   },
   "outputs": [],
   "source": [
    "# Two most expensive tickets are outliers,\n",
    "# we will cap them at the next overall highest Price \n",
    "df.loc[(df.Deck.eq('B') & df.Price.gt(68)), 'Price'] = 68"
   ]
  },
  {
   "cell_type": "code",
   "execution_count": 32,
   "id": "c14b72c3",
   "metadata": {
    "execution": {
     "iopub.execute_input": "2025-03-10T11:29:24.375342Z",
     "iopub.status.busy": "2025-03-10T11:29:24.374890Z",
     "iopub.status.idle": "2025-03-10T11:29:24.412473Z",
     "shell.execute_reply": "2025-03-10T11:29:24.411078Z"
    },
    "papermill": {
     "duration": 0.061019,
     "end_time": "2025-03-10T11:29:24.415207",
     "exception": false,
     "start_time": "2025-03-10T11:29:24.354188",
     "status": "completed"
    },
    "tags": []
   },
   "outputs": [],
   "source": [
    "# Create a data frame of mean prices by Pclass and Deck \n",
    "class_deck_price = pd.DataFrame(df.groupby(['Pclass', 'Deck'])\n",
    "                                .Price.mean().round(2)).reset_index()\n",
    "\n",
    "# Impute missing prices \n",
    "# Where Deck is missing we will use the mean price by Pclass only\n",
    "for index, row in df.loc[df.Price.isna(), \n",
    "                         ['Pclass', 'Deck']].iterrows():\n",
    "    if not pd.isna(row.Deck):\n",
    "        new_price = class_deck_price.loc[\n",
    "            (class_deck_price.Pclass.eq(row.Pclass) \n",
    "            & class_deck_price.Deck.eq(row.Deck)), 'Price'].mean()\n",
    "    else:\n",
    "        new_price = class_deck_price[\n",
    "            class_deck_price.Pclass.eq(row.Pclass)].Price.mean()\n",
    "\n",
    "    df.loc[[index], 'Price'] = new_price"
   ]
  },
  {
   "cell_type": "markdown",
   "id": "6637afa8",
   "metadata": {
    "papermill": {
     "duration": 0.019486,
     "end_time": "2025-03-10T11:29:24.454966",
     "exception": false,
     "start_time": "2025-03-10T11:29:24.435480",
     "status": "completed"
    },
    "tags": []
   },
   "source": [
    "# Analyze and impute missing Deck"
   ]
  },
  {
   "cell_type": "code",
   "execution_count": 33,
   "id": "e808c888",
   "metadata": {
    "execution": {
     "iopub.execute_input": "2025-03-10T11:29:24.495947Z",
     "iopub.status.busy": "2025-03-10T11:29:24.495494Z",
     "iopub.status.idle": "2025-03-10T11:29:25.133244Z",
     "shell.execute_reply": "2025-03-10T11:29:25.131956Z"
    },
    "papermill": {
     "duration": 0.661217,
     "end_time": "2025-03-10T11:29:25.135939",
     "exception": false,
     "start_time": "2025-03-10T11:29:24.474722",
     "status": "completed"
    },
    "tags": []
   },
   "outputs": [],
   "source": [
    "# Create dictionaries with aproximative price ranges by deck \n",
    "# concluded from previous analisys\n",
    "first_cl = {'A': [25, 30],\n",
    "            'B': [35, 70],\n",
    "            'C': [30, 35],\n",
    "            'D': [19, 25],\n",
    "            'E': [9, 19]}\n",
    "\n",
    "second_cl = {'D': [13, 17],\n",
    "             'E': [5, 9],\n",
    "             'F': [9, 13]}\n",
    "\n",
    "third_cl = {'E': [8, 9],\n",
    "            'F': [9, 21],\n",
    "            'G': [0, 8]}\n",
    "\n",
    "# Create a dictionary pairing Pclass and respective price dictionary\n",
    "class_dict = {1: first_cl,\n",
    "              2: second_cl,\n",
    "              3: third_cl}\n",
    "\n",
    "# Impute missing Deck values \n",
    "for index, row in df.loc[df.Deck.isna(), ['Pclass', 'Price']].iterrows():\n",
    "    for c, d in class_dict.items():\n",
    "        if row.Pclass == c:\n",
    "            for i, j in d.items():\n",
    "                if max(j) > row.Price >= min(j):\n",
    "                    df.loc[[index], 'Deck'] = i\n",
    "\n",
    "# Encode Deck with it's deck level number counting from the bottom\n",
    "deck_level = {'G': 1, 'F': 2, 'E': 3, 'D': 4, 'C': 5, 'B': 6, 'A': 7}\n",
    "\n",
    "df.Deck = df.Deck.replace(deck_level)"
   ]
  },
  {
   "cell_type": "markdown",
   "id": "c0fefe9f",
   "metadata": {
    "papermill": {
     "duration": 0.019068,
     "end_time": "2025-03-10T11:29:25.174475",
     "exception": false,
     "start_time": "2025-03-10T11:29:25.155407",
     "status": "completed"
    },
    "tags": []
   },
   "source": [
    "# Create Escape_density\n",
    "\n",
    "Crowded decks could lead to jams and chaos when everybody wanted to go to the upper deck as the lifeboats were there.\n",
    "This feature will show through which amount of people each deck passenger needed to pass to arrive on top. \n",
    "Basically for each deck we will have a number of people equal to the summ of its own value and all the decks that are upper from it."
   ]
  },
  {
   "cell_type": "code",
   "execution_count": 34,
   "id": "316b2eb1",
   "metadata": {
    "execution": {
     "iopub.execute_input": "2025-03-10T11:29:25.215713Z",
     "iopub.status.busy": "2025-03-10T11:29:25.215308Z",
     "iopub.status.idle": "2025-03-10T11:29:25.227475Z",
     "shell.execute_reply": "2025-03-10T11:29:25.226204Z"
    },
    "papermill": {
     "duration": 0.035464,
     "end_time": "2025-03-10T11:29:25.229991",
     "exception": false,
     "start_time": "2025-03-10T11:29:25.194527",
     "status": "completed"
    },
    "tags": []
   },
   "outputs": [
    {
     "data": {
      "text/plain": [
       "{1: 537, 2: 167, 3: 193, 4: 172, 5: 112, 6: 76, 7: 52}"
      ]
     },
     "execution_count": 34,
     "metadata": {},
     "output_type": "execute_result"
    }
   ],
   "source": [
    "# Analyse how many people were on each deck.\n",
    "# Many values were imputed with aproximation,but at least we will have \n",
    "# an aproximative crowd mass each passenger has to pass going up\n",
    "deck_people = df.Deck.value_counts().sort_index()\n",
    "deck_people_dic = deck_people.to_dict()\n",
    "deck_people_dic"
   ]
  },
  {
   "cell_type": "code",
   "execution_count": 35,
   "id": "165eca83",
   "metadata": {
    "execution": {
     "iopub.execute_input": "2025-03-10T11:29:25.271838Z",
     "iopub.status.busy": "2025-03-10T11:29:25.271415Z",
     "iopub.status.idle": "2025-03-10T11:29:25.280179Z",
     "shell.execute_reply": "2025-03-10T11:29:25.278482Z"
    },
    "papermill": {
     "duration": 0.03328,
     "end_time": "2025-03-10T11:29:25.282743",
     "exception": false,
     "start_time": "2025-03-10T11:29:25.249463",
     "status": "completed"
    },
    "tags": []
   },
   "outputs": [
    {
     "data": {
      "text/plain": [
       "{1: 1309, 2: 772, 3: 605, 4: 412, 5: 240, 6: 128, 7: 52}"
      ]
     },
     "execution_count": 35,
     "metadata": {},
     "output_type": "execute_result"
    }
   ],
   "source": [
    "# Create an escape density dictionary from which we will impute data to our new feature\n",
    "escape_density = {}\n",
    "for i in range(1, 8):\n",
    "    escape_density[i] = sum(deck_people_dic.values())\n",
    "    del deck_people_dic[i]\n",
    "    \n",
    "escape_density"
   ]
  },
  {
   "cell_type": "code",
   "execution_count": 36,
   "id": "f5ebab4b",
   "metadata": {
    "execution": {
     "iopub.execute_input": "2025-03-10T11:29:25.324807Z",
     "iopub.status.busy": "2025-03-10T11:29:25.324410Z",
     "iopub.status.idle": "2025-03-10T11:29:25.332179Z",
     "shell.execute_reply": "2025-03-10T11:29:25.331017Z"
    },
    "papermill": {
     "duration": 0.03172,
     "end_time": "2025-03-10T11:29:25.334541",
     "exception": false,
     "start_time": "2025-03-10T11:29:25.302821",
     "status": "completed"
    },
    "tags": []
   },
   "outputs": [],
   "source": [
    "# Create Escape_density column\n",
    "df['Escape_density'] = df.Deck.replace(escape_density)"
   ]
  },
  {
   "cell_type": "markdown",
   "id": "aba0084f",
   "metadata": {
    "papermill": {
     "duration": 0.019552,
     "end_time": "2025-03-10T11:29:25.373875",
     "exception": false,
     "start_time": "2025-03-10T11:29:25.354323",
     "status": "completed"
    },
    "tags": []
   },
   "source": [
    "# Create Family_size\n",
    "\n",
    "It will represent the number of the family members"
   ]
  },
  {
   "cell_type": "code",
   "execution_count": 37,
   "id": "17b66dd9",
   "metadata": {
    "execution": {
     "iopub.execute_input": "2025-03-10T11:29:25.416609Z",
     "iopub.status.busy": "2025-03-10T11:29:25.416230Z",
     "iopub.status.idle": "2025-03-10T11:29:25.422914Z",
     "shell.execute_reply": "2025-03-10T11:29:25.421727Z"
    },
    "papermill": {
     "duration": 0.030758,
     "end_time": "2025-03-10T11:29:25.425199",
     "exception": false,
     "start_time": "2025-03-10T11:29:25.394441",
     "status": "completed"
    },
    "tags": []
   },
   "outputs": [],
   "source": [
    "# We add together the person and his SibSp and Parch\n",
    "df['Family_size'] = 1 + df.SibSp + df.Parch"
   ]
  },
  {
   "cell_type": "markdown",
   "id": "baa5cff5",
   "metadata": {
    "papermill": {
     "duration": 0.019689,
     "end_time": "2025-03-10T11:29:25.465384",
     "exception": false,
     "start_time": "2025-03-10T11:29:25.445695",
     "status": "completed"
    },
    "tags": []
   },
   "source": [
    "# Create Family_survivers\n",
    "This feature can't be used for modeling as it would lead to target leakage, resulting in a good result on training data, but poor result on the test data.\n",
    "\n",
    "We will analyse it later to separate family groups that could have higher surviving chance."
   ]
  },
  {
   "cell_type": "code",
   "execution_count": 38,
   "id": "bed9afd1",
   "metadata": {
    "execution": {
     "iopub.execute_input": "2025-03-10T11:29:25.507524Z",
     "iopub.status.busy": "2025-03-10T11:29:25.507117Z",
     "iopub.status.idle": "2025-03-10T11:29:25.585016Z",
     "shell.execute_reply": "2025-03-10T11:29:25.583836Z"
    },
    "papermill": {
     "duration": 0.102254,
     "end_time": "2025-03-10T11:29:25.587791",
     "exception": false,
     "start_time": "2025-03-10T11:29:25.485537",
     "status": "completed"
    },
    "tags": []
   },
   "outputs": [],
   "source": [
    "# Create full data frame for analysis\n",
    "X = df[:X_max_index].copy()\n",
    "test_df = df[X_max_index:].copy()\n",
    "full_df = pd.concat([X, y], axis=1).copy()\n",
    "\n",
    "# Check for families that has survivers and create a dictionary with mean value of their family survivability\n",
    "family_survivers = full_df[['Lastname', 'Survived']].groupby('Lastname').mean().round(2).reset_index()\n",
    "family_survivers_dict = dict(zip(family_survivers.Lastname, family_survivers.Survived))\n",
    "\n",
    "# Reduce the dictionary to the list of families that are both in train and test data\n",
    "common_survivers = {}\n",
    "for lastname, survived in family_survivers_dict.items():\n",
    "    if lastname in list(test_df['Lastname'].unique()):\n",
    "        common_survivers[lastname] = survived\n",
    "\n",
    "# Create Family_survivers feature\n",
    "df['Family_survivers'] = df.Lastname.map(common_survivers)\n",
    "\n",
    "# For the families that are not present in both train and test we will impute the overall mean value\n",
    "df.Family_survivers = df.Family_survivers.fillna(df.Family_survivers.mean())"
   ]
  },
  {
   "cell_type": "markdown",
   "id": "0d1748d4",
   "metadata": {
    "papermill": {
     "duration": 0.019764,
     "end_time": "2025-03-10T11:29:25.627714",
     "exception": false,
     "start_time": "2025-03-10T11:29:25.607950",
     "status": "completed"
    },
    "tags": []
   },
   "source": [
    "# Clean data"
   ]
  },
  {
   "cell_type": "code",
   "execution_count": 39,
   "id": "14c8a4a9",
   "metadata": {
    "execution": {
     "iopub.execute_input": "2025-03-10T11:29:25.671068Z",
     "iopub.status.busy": "2025-03-10T11:29:25.670624Z",
     "iopub.status.idle": "2025-03-10T11:29:25.677755Z",
     "shell.execute_reply": "2025-03-10T11:29:25.676259Z"
    },
    "papermill": {
     "duration": 0.033017,
     "end_time": "2025-03-10T11:29:25.680652",
     "exception": false,
     "start_time": "2025-03-10T11:29:25.647635",
     "status": "completed"
    },
    "tags": []
   },
   "outputs": [],
   "source": [
    "# Change Pclass dtype to category as it's a classification feature\n",
    "df.Pclass = df.Pclass.astype('object')"
   ]
  },
  {
   "cell_type": "code",
   "execution_count": 40,
   "id": "a6c59b4a",
   "metadata": {
    "execution": {
     "iopub.execute_input": "2025-03-10T11:29:25.722696Z",
     "iopub.status.busy": "2025-03-10T11:29:25.722300Z",
     "iopub.status.idle": "2025-03-10T11:29:25.730449Z",
     "shell.execute_reply": "2025-03-10T11:29:25.729216Z"
    },
    "papermill": {
     "duration": 0.031923,
     "end_time": "2025-03-10T11:29:25.733180",
     "exception": false,
     "start_time": "2025-03-10T11:29:25.701257",
     "status": "completed"
    },
    "tags": []
   },
   "outputs": [],
   "source": [
    "# Drop further unused columns\n",
    "col_drop = ['Name', 'Ticket', 'Ticket_nr', 'Ticket_series', \n",
    "            'Fare', 'Cabin', 'Lastname', 'Passengers_ticket']\n",
    "df = df.drop(col_drop, axis=1)"
   ]
  },
  {
   "cell_type": "markdown",
   "id": "4369e673",
   "metadata": {
    "execution": {
     "iopub.execute_input": "2023-02-06T22:59:43.980076Z",
     "iopub.status.busy": "2023-02-06T22:59:43.979632Z",
     "iopub.status.idle": "2023-02-06T22:59:43.997049Z",
     "shell.execute_reply": "2023-02-06T22:59:43.994931Z",
     "shell.execute_reply.started": "2023-02-06T22:59:43.98004Z"
    },
    "papermill": {
     "duration": 0.020851,
     "end_time": "2025-03-10T11:29:25.773983",
     "exception": false,
     "start_time": "2025-03-10T11:29:25.753132",
     "status": "completed"
    },
    "tags": []
   },
   "source": [
    "# Impute and encode categoricals"
   ]
  },
  {
   "cell_type": "code",
   "execution_count": 41,
   "id": "81c1f80e",
   "metadata": {
    "execution": {
     "iopub.execute_input": "2025-03-10T11:29:25.815466Z",
     "iopub.status.busy": "2025-03-10T11:29:25.815067Z",
     "iopub.status.idle": "2025-03-10T11:29:25.836487Z",
     "shell.execute_reply": "2025-03-10T11:29:25.835175Z"
    },
    "papermill": {
     "duration": 0.04482,
     "end_time": "2025-03-10T11:29:25.839111",
     "exception": false,
     "start_time": "2025-03-10T11:29:25.794291",
     "status": "completed"
    },
    "tags": []
   },
   "outputs": [],
   "source": [
    "# List of categorical columns\n",
    "categ_cols = list(df.select_dtypes(exclude=[np.number]).columns)\n",
    "\n",
    "# Impute categoricals with most frequent value\n",
    "cat_imputer = SimpleImputer(strategy='most_frequent')\n",
    "\n",
    "df_cat = pd.DataFrame(cat_imputer.fit_transform(df[categ_cols]), \n",
    "                      columns=df[categ_cols].columns)\n",
    "\n",
    "# Encode categorical\n",
    "df_cat = pd.get_dummies(df_cat)"
   ]
  },
  {
   "cell_type": "markdown",
   "id": "94e76dfa",
   "metadata": {
    "execution": {
     "iopub.status.busy": "2023-02-06T22:59:44.00643Z",
     "iopub.status.idle": "2023-02-06T22:59:44.006895Z",
     "shell.execute_reply": "2023-02-06T22:59:44.006708Z",
     "shell.execute_reply.started": "2023-02-06T22:59:44.006687Z"
    },
    "papermill": {
     "duration": 0.020066,
     "end_time": "2025-03-10T11:29:25.879482",
     "exception": false,
     "start_time": "2025-03-10T11:29:25.859416",
     "status": "completed"
    },
    "tags": []
   },
   "source": [
    "# Impute numericals"
   ]
  },
  {
   "cell_type": "code",
   "execution_count": 42,
   "id": "4aa94f94",
   "metadata": {
    "execution": {
     "iopub.execute_input": "2025-03-10T11:29:25.920420Z",
     "iopub.status.busy": "2025-03-10T11:29:25.920005Z",
     "iopub.status.idle": "2025-03-10T11:29:26.002508Z",
     "shell.execute_reply": "2025-03-10T11:29:26.001168Z"
    },
    "papermill": {
     "duration": 0.10711,
     "end_time": "2025-03-10T11:29:26.006224",
     "exception": false,
     "start_time": "2025-03-10T11:29:25.899114",
     "status": "completed"
    },
    "tags": []
   },
   "outputs": [],
   "source": [
    "# List of numerical columns\n",
    "num_cols = list(df.select_dtypes([np.number]).columns)\n",
    "\n",
    "# Impute numericals\n",
    "it_imp = IterativeImputer()\n",
    "\n",
    "df_num = pd.DataFrame(it_imp.fit_transform(df[num_cols]),\n",
    "                      columns=df[num_cols].columns)\n",
    "\n",
    "# Concatenate with encoded categorical columns\n",
    "df = pd.concat([df_cat, df_num], axis=1)"
   ]
  },
  {
   "cell_type": "markdown",
   "id": "f85d00a6",
   "metadata": {
    "papermill": {
     "duration": 0.038811,
     "end_time": "2025-03-10T11:29:26.085802",
     "exception": false,
     "start_time": "2025-03-10T11:29:26.046991",
     "status": "completed"
    },
    "tags": []
   },
   "source": [
    "# Feature engineering"
   ]
  },
  {
   "cell_type": "code",
   "execution_count": 43,
   "id": "c9a0f50c",
   "metadata": {
    "execution": {
     "iopub.execute_input": "2025-03-10T11:29:26.144456Z",
     "iopub.status.busy": "2025-03-10T11:29:26.144065Z",
     "iopub.status.idle": "2025-03-10T11:29:26.154610Z",
     "shell.execute_reply": "2025-03-10T11:29:26.153305Z"
    },
    "papermill": {
     "duration": 0.035339,
     "end_time": "2025-03-10T11:29:26.157286",
     "exception": false,
     "start_time": "2025-03-10T11:29:26.121947",
     "status": "completed"
    },
    "tags": []
   },
   "outputs": [],
   "source": [
    "# Create a full data frame for analysis\n",
    "X = df[:X_max_index]\n",
    "full_df = pd.concat([X, y], axis=1)\n",
    "\n",
    "# Function for kde plotting\n",
    "def survive_chance_by(feature, xticks=None, xlim=None):\n",
    "    survived = full_df[full_df.Survived.eq(1)]\n",
    "    not_survived = full_df[full_df.Survived.eq(0)]\n",
    "\n",
    "    plt.figure(figsize=(10, 5))\n",
    "\n",
    "    survived[feature].plot(kind='kde', label='survived')\n",
    "    not_survived[feature].plot(kind='kde', label='not_survived')\n",
    "    \n",
    "    plt.xlim(xlim)\n",
    "    plt.xticks(xticks)\n",
    "    plt.legend()\n",
    "    plt.grid()\n",
    "    plt.xlabel(feature)\n",
    "    plt.show()"
   ]
  },
  {
   "cell_type": "markdown",
   "id": "2bcdfe8f",
   "metadata": {
    "execution": {
     "iopub.status.busy": "2023-02-06T22:59:44.021554Z",
     "iopub.status.idle": "2023-02-06T22:59:44.022458Z",
     "shell.execute_reply": "2023-02-06T22:59:44.022251Z",
     "shell.execute_reply.started": "2023-02-06T22:59:44.022224Z"
    },
    "papermill": {
     "duration": 0.019481,
     "end_time": "2025-03-10T11:29:26.197514",
     "exception": false,
     "start_time": "2025-03-10T11:29:26.178033",
     "status": "completed"
    },
    "tags": []
   },
   "source": [
    "# Create Age_group"
   ]
  },
  {
   "cell_type": "code",
   "execution_count": 44,
   "id": "680e2fa8",
   "metadata": {
    "execution": {
     "iopub.execute_input": "2025-03-10T11:29:26.241040Z",
     "iopub.status.busy": "2025-03-10T11:29:26.240594Z",
     "iopub.status.idle": "2025-03-10T11:29:26.521257Z",
     "shell.execute_reply": "2025-03-10T11:29:26.519752Z"
    },
    "papermill": {
     "duration": 0.306294,
     "end_time": "2025-03-10T11:29:26.523787",
     "exception": false,
     "start_time": "2025-03-10T11:29:26.217493",
     "status": "completed"
    },
    "tags": []
   },
   "outputs": [
    {
     "data": {
      "image/png": "[encoded data removed]",
      "text/plain": [
       "<Figure size 720x360 with 1 Axes>"
      ]
     },
     "metadata": {
      "needs_background": "light"
     },
     "output_type": "display_data"
    }
   ],
   "source": [
    "# Survivers by Age\n",
    "survive_chance_by('Age', np.arange(0, 80, 5), (0, 80))"
   ]
  },
  {
   "cell_type": "markdown",
   "id": "125d5c7f",
   "metadata": {
    "execution": {
     "iopub.execute_input": "2023-02-06T23:00:51.490531Z",
     "iopub.status.busy": "2023-02-06T23:00:51.489379Z",
     "iopub.status.idle": "2023-02-06T23:00:51.499884Z",
     "shell.execute_reply": "2023-02-06T23:00:51.497841Z",
     "shell.execute_reply.started": "2023-02-06T23:00:51.490487Z"
    },
    "papermill": {
     "duration": 0.020207,
     "end_time": "2025-03-10T11:29:26.564520",
     "exception": false,
     "start_time": "2025-03-10T11:29:26.544313",
     "status": "completed"
    },
    "tags": []
   },
   "source": [
    "By curves intersection points we can separate 5 age groups"
   ]
  },
  {
   "cell_type": "code",
   "execution_count": 45,
   "id": "a7aebb5f",
   "metadata": {
    "execution": {
     "iopub.execute_input": "2025-03-10T11:29:26.609668Z",
     "iopub.status.busy": "2025-03-10T11:29:26.609243Z",
     "iopub.status.idle": "2025-03-10T11:29:26.620220Z",
     "shell.execute_reply": "2025-03-10T11:29:26.618939Z"
    },
    "papermill": {
     "duration": 0.036861,
     "end_time": "2025-03-10T11:29:26.622872",
     "exception": false,
     "start_time": "2025-03-10T11:29:26.586011",
     "status": "completed"
    },
    "tags": []
   },
   "outputs": [],
   "source": [
    "df['Age_group'] = pd.cut(x=df.Age, labels=[5, 1, 4, 3, 2],\n",
    "                         bins=[-1, 15, 33, 45, 60, df.Age.max()]).astype('float')"
   ]
  },
  {
   "cell_type": "markdown",
   "id": "d81c2cef",
   "metadata": {
    "execution": {
     "iopub.status.busy": "2023-02-06T22:59:44.030628Z",
     "iopub.status.idle": "2023-02-06T22:59:44.031418Z",
     "shell.execute_reply": "2023-02-06T22:59:44.031221Z",
     "shell.execute_reply.started": "2023-02-06T22:59:44.031192Z"
    },
    "papermill": {
     "duration": 0.021403,
     "end_time": "2025-03-10T11:29:26.664750",
     "exception": false,
     "start_time": "2025-03-10T11:29:26.643347",
     "status": "completed"
    },
    "tags": []
   },
   "source": [
    "# Create Family_group"
   ]
  },
  {
   "cell_type": "code",
   "execution_count": 46,
   "id": "7e69dca9",
   "metadata": {
    "execution": {
     "iopub.execute_input": "2025-03-10T11:29:26.706965Z",
     "iopub.status.busy": "2025-03-10T11:29:26.706500Z",
     "iopub.status.idle": "2025-03-10T11:29:26.946940Z",
     "shell.execute_reply": "2025-03-10T11:29:26.945754Z"
    },
    "papermill": {
     "duration": 0.264325,
     "end_time": "2025-03-10T11:29:26.949238",
     "exception": false,
     "start_time": "2025-03-10T11:29:26.684913",
     "status": "completed"
    },
    "tags": []
   },
   "outputs": [
    {
     "data": {
      "image/png": "[encoded data removed]",
      "text/plain": [
       "<Figure size 720x360 with 1 Axes>"
      ]
     },
     "metadata": {
      "needs_background": "light"
     },
     "output_type": "display_data"
    }
   ],
   "source": [
    "# Survivers by Family_size\n",
    "survive_chance_by('Family_size', np.arange(0, 10, 1), (0, 10))"
   ]
  },
  {
   "cell_type": "markdown",
   "id": "9974d5b7",
   "metadata": {
    "execution": {
     "iopub.status.busy": "2023-02-06T23:00:51.508081Z",
     "iopub.status.idle": "2023-02-06T23:00:51.508891Z",
     "shell.execute_reply": "2023-02-06T23:00:51.508565Z",
     "shell.execute_reply.started": "2023-02-06T23:00:51.508529Z"
    },
    "papermill": {
     "duration": 0.020712,
     "end_time": "2025-03-10T11:29:26.991325",
     "exception": false,
     "start_time": "2025-03-10T11:29:26.970613",
     "status": "completed"
    },
    "tags": []
   },
   "source": [
    "Here we can separate 3 groups:\n",
    "\n",
    "    1. Single persons had lower chance to survive\n",
    "    2. 2-4 members families had higher chances, as they had some priority to safeboats with 1-2 children with them\n",
    "    3. 5 and more members families had almost equal chances"
   ]
  },
  {
   "cell_type": "code",
   "execution_count": 47,
   "id": "c2bfb0fb",
   "metadata": {
    "execution": {
     "iopub.execute_input": "2025-03-10T11:29:27.035585Z",
     "iopub.status.busy": "2025-03-10T11:29:27.034643Z",
     "iopub.status.idle": "2025-03-10T11:29:27.044368Z",
     "shell.execute_reply": "2025-03-10T11:29:27.043084Z"
    },
    "papermill": {
     "duration": 0.034904,
     "end_time": "2025-03-10T11:29:27.046966",
     "exception": false,
     "start_time": "2025-03-10T11:29:27.012062",
     "status": "completed"
    },
    "tags": []
   },
   "outputs": [],
   "source": [
    "# Create Family_group feature\n",
    "df['Family_group'] = pd.cut(x=df.Family_size, labels=[1, 3, 2], \n",
    "                            bins=[-1, 1, 4, df.Family_size.max()]).astype('float')"
   ]
  },
  {
   "cell_type": "markdown",
   "id": "1a19c21d",
   "metadata": {
    "papermill": {
     "duration": 0.021627,
     "end_time": "2025-03-10T11:29:27.091030",
     "exception": false,
     "start_time": "2025-03-10T11:29:27.069403",
     "status": "completed"
    },
    "tags": []
   },
   "source": [
    "# Create Lucky_family\n",
    "To create this feature we analyse earlier created Family_survivers that used by itself would overfit the model"
   ]
  },
  {
   "cell_type": "code",
   "execution_count": 48,
   "id": "ab765b4f",
   "metadata": {
    "execution": {
     "iopub.execute_input": "2025-03-10T11:29:27.135069Z",
     "iopub.status.busy": "2025-03-10T11:29:27.134637Z",
     "iopub.status.idle": "2025-03-10T11:29:27.458126Z",
     "shell.execute_reply": "2025-03-10T11:29:27.457035Z"
    },
    "papermill": {
     "duration": 0.348046,
     "end_time": "2025-03-10T11:29:27.460699",
     "exception": false,
     "start_time": "2025-03-10T11:29:27.112653",
     "status": "completed"
    },
    "tags": []
   },
   "outputs": [
    {
     "data": {
      "image/png": "[encoded data removed]",
      "text/plain": [
       "<Figure size 720x360 with 1 Axes>"
      ]
     },
     "metadata": {
      "needs_background": "light"
     },
     "output_type": "display_data"
    }
   ],
   "source": [
    "# Survivers by Family_survivers\n",
    "survive_chance_by('Family_survivers', np.arange(0, 1, 0.1), (0, 1))"
   ]
  },
  {
   "cell_type": "markdown",
   "id": "eb5235ec",
   "metadata": {
    "papermill": {
     "duration": 0.020684,
     "end_time": "2025-03-10T11:29:27.502380",
     "exception": false,
     "start_time": "2025-03-10T11:29:27.481696",
     "status": "completed"
    },
    "tags": []
   },
   "source": [
    "By curves intersection points we can separate 4 family groups with different chance to survive"
   ]
  },
  {
   "cell_type": "code",
   "execution_count": 49,
   "id": "da554abd",
   "metadata": {
    "execution": {
     "iopub.execute_input": "2025-03-10T11:29:27.546447Z",
     "iopub.status.busy": "2025-03-10T11:29:27.546033Z",
     "iopub.status.idle": "2025-03-10T11:29:27.556419Z",
     "shell.execute_reply": "2025-03-10T11:29:27.555178Z"
    },
    "papermill": {
     "duration": 0.035935,
     "end_time": "2025-03-10T11:29:27.559407",
     "exception": false,
     "start_time": "2025-03-10T11:29:27.523472",
     "status": "completed"
    },
    "tags": []
   },
   "outputs": [],
   "source": [
    "# Create Lucky_family feature\n",
    "df['Lucky_family'] = pd.cut(x=df.Family_survivers, labels=[2, 3, 1, 4],\n",
    "                            bins=[-1, 0.22, 0.35, 0.49, df.Family_survivers.max()]).astype('float')"
   ]
  },
  {
   "cell_type": "markdown",
   "id": "5dae845a",
   "metadata": {
    "execution": {
     "iopub.status.busy": "2023-02-06T22:59:44.042968Z",
     "iopub.status.idle": "2023-02-06T22:59:44.043445Z",
     "shell.execute_reply": "2023-02-06T22:59:44.043231Z",
     "shell.execute_reply.started": "2023-02-06T22:59:44.04321Z"
    },
    "papermill": {
     "duration": 0.020815,
     "end_time": "2025-03-10T11:29:27.602166",
     "exception": false,
     "start_time": "2025-03-10T11:29:27.581351",
     "status": "completed"
    },
    "tags": []
   },
   "source": [
    "# Standardization"
   ]
  },
  {
   "cell_type": "code",
   "execution_count": 50,
   "id": "b8737a20",
   "metadata": {
    "execution": {
     "iopub.execute_input": "2025-03-10T11:29:27.646831Z",
     "iopub.status.busy": "2025-03-10T11:29:27.646417Z",
     "iopub.status.idle": "2025-03-10T11:29:27.660724Z",
     "shell.execute_reply": "2025-03-10T11:29:27.658995Z"
    },
    "papermill": {
     "duration": 0.040327,
     "end_time": "2025-03-10T11:29:27.663684",
     "exception": false,
     "start_time": "2025-03-10T11:29:27.623357",
     "status": "completed"
    },
    "tags": []
   },
   "outputs": [],
   "source": [
    "# Apply np.log to normalize the skewed right Price\n",
    "df.Price = df.Price.apply(np.log1p)\n",
    "\n",
    "# Standardize \n",
    "std_scaler = StandardScaler()\n",
    "\n",
    "df_scaled = std_scaler.fit_transform(df)\n",
    "df = pd.DataFrame(df_scaled, columns=df.columns)"
   ]
  },
  {
   "cell_type": "code",
   "execution_count": 51,
   "id": "dd39c09d",
   "metadata": {
    "execution": {
     "iopub.execute_input": "2025-03-10T11:29:27.709181Z",
     "iopub.status.busy": "2025-03-10T11:29:27.708748Z",
     "iopub.status.idle": "2025-03-10T11:29:27.715989Z",
     "shell.execute_reply": "2025-03-10T11:29:27.714629Z"
    },
    "papermill": {
     "duration": 0.033217,
     "end_time": "2025-03-10T11:29:27.718735",
     "exception": false,
     "start_time": "2025-03-10T11:29:27.685518",
     "status": "completed"
    },
    "tags": []
   },
   "outputs": [],
   "source": [
    "# Drop features not used for modeling\n",
    "cols_to_drop = ['Family_survivers']\n",
    "df = df.drop(cols_to_drop, axis=1)"
   ]
  },
  {
   "cell_type": "markdown",
   "id": "4f084722",
   "metadata": {
    "execution": {
     "iopub.execute_input": "2023-02-06T23:01:18.326265Z",
     "iopub.status.busy": "2023-02-06T23:01:18.325562Z",
     "iopub.status.idle": "2023-02-06T23:01:18.338288Z",
     "shell.execute_reply": "2023-02-06T23:01:18.336437Z",
     "shell.execute_reply.started": "2023-02-06T23:01:18.326196Z"
    },
    "papermill": {
     "duration": 0.021018,
     "end_time": "2025-03-10T11:29:27.760938",
     "exception": false,
     "start_time": "2025-03-10T11:29:27.739920",
     "status": "completed"
    },
    "tags": []
   },
   "source": [
    "# Split train and test data"
   ]
  },
  {
   "cell_type": "code",
   "execution_count": 52,
   "id": "a63cee52",
   "metadata": {
    "execution": {
     "iopub.execute_input": "2025-03-10T11:29:27.805833Z",
     "iopub.status.busy": "2025-03-10T11:29:27.804878Z",
     "iopub.status.idle": "2025-03-10T11:29:27.810882Z",
     "shell.execute_reply": "2025-03-10T11:29:27.809620Z"
    },
    "papermill": {
     "duration": 0.030787,
     "end_time": "2025-03-10T11:29:27.813277",
     "exception": false,
     "start_time": "2025-03-10T11:29:27.782490",
     "status": "completed"
    },
    "tags": []
   },
   "outputs": [],
   "source": [
    "X = df[:X_max_index]\n",
    "test_df = df[X_max_index:]"
   ]
  },
  {
   "cell_type": "markdown",
   "id": "bba9a748",
   "metadata": {
    "execution": {
     "iopub.status.busy": "2023-02-06T23:01:18.340647Z",
     "iopub.status.idle": "2023-02-06T23:01:18.341374Z",
     "shell.execute_reply": "2023-02-06T23:01:18.341057Z",
     "shell.execute_reply.started": "2023-02-06T23:01:18.341023Z"
    },
    "papermill": {
     "duration": 0.020812,
     "end_time": "2025-03-10T11:29:27.855363",
     "exception": false,
     "start_time": "2025-03-10T11:29:27.834551",
     "status": "completed"
    },
    "tags": []
   },
   "source": [
    "# Processed data correlation"
   ]
  },
  {
   "cell_type": "code",
   "execution_count": 53,
   "id": "d5f35a1b",
   "metadata": {
    "execution": {
     "iopub.execute_input": "2025-03-10T11:29:27.900633Z",
     "iopub.status.busy": "2025-03-10T11:29:27.900246Z",
     "iopub.status.idle": "2025-03-10T11:29:28.221317Z",
     "shell.execute_reply": "2025-03-10T11:29:28.220028Z"
    },
    "papermill": {
     "duration": 0.346659,
     "end_time": "2025-03-10T11:29:28.223878",
     "exception": false,
     "start_time": "2025-03-10T11:29:27.877219",
     "status": "completed"
    },
    "tags": []
   },
   "outputs": [
    {
     "data": {
      "image/png": "[encoded data removed]",
      "text/plain": [
       "<Figure size 720x360 with 1 Axes>"
      ]
     },
     "metadata": {
      "needs_background": "light"
     },
     "output_type": "display_data"
    }
   ],
   "source": [
    "# Concatenate into a full dataset\n",
    "full_df = pd.concat([X, y], axis=1)\n",
    "\n",
    "correlation = full_df.corr()['Survived'].sort_values(ascending=False)\n",
    "\n",
    "# Correlation graph\n",
    "correlation[1:].plot(kind='bar', figsize=(10,5), title='Survivability dependency')\n",
    "plt.show()"
   ]
  },
  {
   "cell_type": "markdown",
   "id": "8dab0015",
   "metadata": {
    "execution": {
     "iopub.status.busy": "2023-02-06T22:59:44.05844Z",
     "iopub.status.idle": "2023-02-06T22:59:44.058839Z",
     "shell.execute_reply": "2023-02-06T22:59:44.05867Z",
     "shell.execute_reply.started": "2023-02-06T22:59:44.058649Z"
    },
    "papermill": {
     "duration": 0.021299,
     "end_time": "2025-03-10T11:29:28.267486",
     "exception": false,
     "start_time": "2025-03-10T11:29:28.246187",
     "status": "completed"
    },
    "tags": []
   },
   "source": [
    "# Conclusion\n",
    "\n",
    "On the Titanic is better to not be an usual single adult male on a lower deck and embarked from Southampton with a cheap ticket in the pocket - RIP Jack Dawson :-("
   ]
  },
  {
   "cell_type": "markdown",
   "id": "9e44c5bd",
   "metadata": {
    "papermill": {
     "duration": 0.021627,
     "end_time": "2025-03-10T11:29:28.312115",
     "exception": false,
     "start_time": "2025-03-10T11:29:28.290488",
     "status": "completed"
    },
    "tags": []
   },
   "source": [
    "# CatBoost grid search parameter tuning\n",
    "This cell is commented out as it takes long time to run and the resulted parameters are shown further"
   ]
  },
  {
   "cell_type": "code",
   "execution_count": 54,
   "id": "8c89e93d",
   "metadata": {
    "execution": {
     "iopub.execute_input": "2025-03-10T11:29:28.357056Z",
     "iopub.status.busy": "2025-03-10T11:29:28.356545Z",
     "iopub.status.idle": "2025-03-10T11:29:28.362064Z",
     "shell.execute_reply": "2025-03-10T11:29:28.360937Z"
    },
    "papermill": {
     "duration": 0.031033,
     "end_time": "2025-03-10T11:29:28.364537",
     "exception": false,
     "start_time": "2025-03-10T11:29:28.333504",
     "status": "completed"
    },
    "tags": []
   },
   "outputs": [],
   "source": [
    "# # Define model\n",
    "# cat_model = CatBoostClassifier()\n",
    "\n",
    "# # Define parameters' grid\n",
    "# grid = {'verbose': [False],\n",
    "#         'thread_count': [-1],\n",
    "#         'depth': [3, 4, 5, 6],\n",
    "#         'iterations': [500, 1000, 2000, 3000],\n",
    "#         'learning_rate': [0.0001, 0.001, 0.01]}\n",
    "\n",
    "# # Define GridSearchCV\n",
    "# grid_cat = GridSearchCV(estimator=cat_model, param_grid=grid, cv=3, n_jobs=-1)\n",
    "# grid_cat.fit(X[final_features], y)\n",
    "\n",
    "# params = grid_cat.best_params_\n",
    "\n",
    "# print('\\n Best Score:\\n', grid_cat.best_score_)\n",
    "# print('\\n Best parameters:\\n', params)"
   ]
  },
  {
   "cell_type": "code",
   "execution_count": 55,
   "id": "d05e42b9",
   "metadata": {
    "execution": {
     "iopub.execute_input": "2025-03-10T11:29:28.410325Z",
     "iopub.status.busy": "2025-03-10T11:29:28.409830Z",
     "iopub.status.idle": "2025-03-10T11:29:28.415536Z",
     "shell.execute_reply": "2025-03-10T11:29:28.414385Z"
    },
    "papermill": {
     "duration": 0.031923,
     "end_time": "2025-03-10T11:29:28.417958",
     "exception": false,
     "start_time": "2025-03-10T11:29:28.386035",
     "status": "completed"
    },
    "tags": []
   },
   "outputs": [],
   "source": [
    "# CatBoostClassifier parameters\n",
    "cat_params = {\n",
    "    'verbose': False,\n",
    "    'thread_count': -1,\n",
    "    'depth': 4, \n",
    "    'iterations': 1000, \n",
    "    'learning_rate': 0.0005,\n",
    "}"
   ]
  },
  {
   "cell_type": "markdown",
   "id": "656471b0",
   "metadata": {
    "execution": {
     "iopub.status.busy": "2023-02-06T22:59:44.061203Z",
     "iopub.status.idle": "2023-02-06T22:59:44.061641Z",
     "shell.execute_reply": "2023-02-06T22:59:44.061463Z",
     "shell.execute_reply.started": "2023-02-06T22:59:44.061442Z"
    },
    "papermill": {
     "duration": 0.022015,
     "end_time": "2025-03-10T11:29:28.461635",
     "exception": false,
     "start_time": "2025-03-10T11:29:28.439620",
     "status": "completed"
    },
    "tags": []
   },
   "source": [
    "# CatBoost model"
   ]
  },
  {
   "cell_type": "code",
   "execution_count": 56,
   "id": "d85a56f8",
   "metadata": {
    "execution": {
     "iopub.execute_input": "2025-03-10T11:29:28.506682Z",
     "iopub.status.busy": "2025-03-10T11:29:28.506293Z",
     "iopub.status.idle": "2025-03-10T11:29:34.646055Z",
     "shell.execute_reply": "2025-03-10T11:29:34.644654Z"
    },
    "papermill": {
     "duration": 6.165702,
     "end_time": "2025-03-10T11:29:34.648815",
     "exception": false,
     "start_time": "2025-03-10T11:29:28.483113",
     "status": "completed"
    },
    "tags": []
   },
   "outputs": [
    {
     "name": "stdout",
     "output_type": "stream",
     "text": [
      "count    5.000000\n",
      "mean     0.824945\n",
      "std      0.017520\n",
      "min      0.798883\n",
      "25%      0.814607\n",
      "50%      0.837079\n",
      "75%      0.837079\n",
      "max      0.837079\n",
      "dtype: float64\n",
      "\n",
      "             Feature Id  Importances\n",
      "0         Lucky_family    23.504852\n",
      "1             Sex_male    15.170032\n",
      "2           Sex_female    13.904196\n",
      "3             Title_Mr    11.333412\n",
      "4           Status_Man     9.379041\n",
      "5             Pclass_3     6.278832\n",
      "6   Deck_survive_ratio     4.767186\n",
      "7                Price     3.578620\n",
      "8          Family_size     2.030147\n",
      "9             Pclass_1     1.571889\n",
      "10      Escape_density     1.392729\n",
      "11                Deck     1.387674\n",
      "12           Age_group     1.108085\n",
      "13        Family_group     1.094339\n",
      "14                 Age     0.999447\n",
      "15               SibSp     0.884494\n",
      "16            Pclass_2     0.395426\n",
      "17               Parch     0.342392\n",
      "18        Title_Master     0.314973\n",
      "19        Status_Woman     0.176226\n",
      "20        Status_Child     0.164247\n",
      "21          Embarked_S     0.105921\n",
      "22          Embarked_C     0.061734\n",
      "23          Title_Miss     0.016241\n",
      "24           Title_Mrs     0.015063\n",
      "25       Status_Mother     0.012169\n",
      "26          Embarked_Q     0.010632\n"
     ]
    }
   ],
   "source": [
    "# Define and fit the CatBoost model\n",
    "cat_model = CatBoostClassifier(**cat_params)\n",
    "cat_model.fit(X, y)\n",
    "\n",
    "# Check accuracy and features importance\n",
    "cat_rmses = cross_val_score(cat_model, X, y, cv=5)\n",
    "\n",
    "print(pd.Series(cat_rmses).describe())\n",
    "print('\\n', cat_model.get_feature_importance(prettified=True))"
   ]
  },
  {
   "cell_type": "markdown",
   "id": "8a4595f6",
   "metadata": {
    "execution": {
     "iopub.status.busy": "2023-02-06T22:59:44.065525Z",
     "iopub.status.idle": "2023-02-06T22:59:44.066348Z",
     "shell.execute_reply": "2023-02-06T22:59:44.066094Z",
     "shell.execute_reply.started": "2023-02-06T22:59:44.066054Z"
    },
    "papermill": {
     "duration": 0.023071,
     "end_time": "2025-03-10T11:29:34.693832",
     "exception": false,
     "start_time": "2025-03-10T11:29:34.670761",
     "status": "completed"
    },
    "tags": []
   },
   "source": [
    "# Submission"
   ]
  },
  {
   "cell_type": "code",
   "execution_count": 57,
   "id": "cbbdd053",
   "metadata": {
    "execution": {
     "iopub.execute_input": "2025-03-10T11:29:34.741664Z",
     "iopub.status.busy": "2025-03-10T11:29:34.741273Z",
     "iopub.status.idle": "2025-03-10T11:29:34.753959Z",
     "shell.execute_reply": "2025-03-10T11:29:34.752757Z"
    },
    "papermill": {
     "duration": 0.039775,
     "end_time": "2025-03-10T11:29:34.756652",
     "exception": false,
     "start_time": "2025-03-10T11:29:34.716877",
     "status": "completed"
    },
    "tags": []
   },
   "outputs": [],
   "source": [
    "# Make predictions which we will submit.\n",
    "test_preds = cat_model.predict(test_df)\n",
    "\n",
    "# Save predictions in the format used for competition scoring\n",
    "output = pd.DataFrame({'PassengerId': test_pass_id,\n",
    "                       'Survived': test_preds})\n",
    "output.to_csv('submission.csv', index=False)"
   ]
  }
 ],
 "metadata": {
  "kaggle": {
   "accelerator": "none",
   "dataSources": [
    {
     "databundleVersionId": 26502,
     "sourceId": 3136,
     "sourceType": "competition"
    }
   ],
   "dockerImageVersionId": 30357,
   "isGpuEnabled": false,
   "isInternetEnabled": false,
   "language": "python",
   "sourceType": "notebook"
  },
  "kernelspec": {
   "display_name": "Python 3",
   "language": "python",
   "name": "python3"
  },
  "language_info": {
   "codemirror_mode": {
    "name": "ipython",
    "version": 3
   },
   "file_extension": ".py",
   "mimetype": "text/x-python",
   "name": "python",
   "nbconvert_exporter": "python",
   "pygments_lexer": "ipython3",
   "version": "3.7.12"
  },
  "papermill": {
   "default_parameters": {},
   "duration": 28.157575,
   "end_time": "2025-03-10T11:29:35.610593",
   "environment_variables": {},
   "exception": null,
   "input_path": "__notebook__.ipynb",
   "output_path": "__notebook__.ipynb",
   "parameters": {},
   "start_time": "2025-03-10T11:29:07.453018",
   "version": "2.3.4"
  }
 },
 "nbformat": 4,
 "nbformat_minor": 5
}
